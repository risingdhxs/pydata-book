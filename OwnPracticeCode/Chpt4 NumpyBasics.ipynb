{
 "cells": [
  {
   "cell_type": "code",
   "execution_count": 1,
   "metadata": {},
   "outputs": [],
   "source": [
    "time?"
   ]
  },
  {
   "cell_type": "code",
   "execution_count": 2,
   "metadata": {},
   "outputs": [],
   "source": [
    "import numpy as np; my_arr=np.arange(1000000);my_list=list(range(1000000));"
   ]
  },
  {
   "cell_type": "code",
   "execution_count": 3,
   "metadata": {},
   "outputs": [
    {
     "name": "stdout",
     "output_type": "stream",
     "text": [
      "CPU times: user 24.7 ms, sys: 3.37 ms, total: 28 ms\n",
      "Wall time: 36.7 ms\n"
     ]
    }
   ],
   "source": [
    "%time for _ in range(10): my_arr2=my_arr*2"
   ]
  },
  {
   "cell_type": "code",
   "execution_count": 4,
   "metadata": {},
   "outputs": [
    {
     "name": "stdout",
     "output_type": "stream",
     "text": [
      "CPU times: user 210 ms, sys: 35 ms, total: 245 ms\n",
      "Wall time: 242 ms\n"
     ]
    }
   ],
   "source": [
    "%time for _ in range(10): my_list2=my_list*2"
   ]
  },
  {
   "cell_type": "code",
   "execution_count": 6,
   "metadata": {},
   "outputs": [
    {
     "name": "stdout",
     "output_type": "stream",
     "text": [
      "CPU times: user 631 ms, sys: 104 ms, total: 735 ms\n",
      "Wall time: 733 ms\n"
     ]
    }
   ],
   "source": [
    "%time for _ in range(10): my_list2=[x*2 for x in my_list]"
   ]
  },
  {
   "cell_type": "code",
   "execution_count": 9,
   "metadata": {},
   "outputs": [],
   "source": [
    "data=np.random.randn(2,3)"
   ]
  },
  {
   "cell_type": "code",
   "execution_count": 10,
   "metadata": {},
   "outputs": [
    {
     "data": {
      "text/plain": [
       "array([[-0.93918867, -1.34034685, -0.19647441],\n",
       "       [ 0.55559978, -1.93009651, -0.43334041]])"
      ]
     },
     "execution_count": 10,
     "metadata": {},
     "output_type": "execute_result"
    }
   ],
   "source": [
    "data"
   ]
  },
  {
   "cell_type": "code",
   "execution_count": 11,
   "metadata": {},
   "outputs": [],
   "source": [
    "data2=data"
   ]
  },
  {
   "cell_type": "code",
   "execution_count": 12,
   "metadata": {},
   "outputs": [
    {
     "data": {
      "text/plain": [
       "array([[-1.87837734, -2.6806937 , -0.39294882],\n",
       "       [ 1.11119956, -3.86019303, -0.86668083]])"
      ]
     },
     "execution_count": 12,
     "metadata": {},
     "output_type": "execute_result"
    }
   ],
   "source": [
    "data*2"
   ]
  },
  {
   "cell_type": "code",
   "execution_count": 13,
   "metadata": {},
   "outputs": [
    {
     "data": {
      "text/plain": [
       "array([[-0.93918867, -1.34034685, -0.19647441],\n",
       "       [ 0.55559978, -1.93009651, -0.43334041]])"
      ]
     },
     "execution_count": 13,
     "metadata": {},
     "output_type": "execute_result"
    }
   ],
   "source": [
    "data"
   ]
  },
  {
   "cell_type": "code",
   "execution_count": 14,
   "metadata": {},
   "outputs": [
    {
     "data": {
      "text/plain": [
       "array([[-0.93918867, -1.34034685, -0.19647441],\n",
       "       [ 0.55559978, -1.93009651, -0.43334041]])"
      ]
     },
     "execution_count": 14,
     "metadata": {},
     "output_type": "execute_result"
    }
   ],
   "source": [
    "data2"
   ]
  },
  {
   "cell_type": "code",
   "execution_count": 15,
   "metadata": {},
   "outputs": [],
   "source": [
    "data=data+1"
   ]
  },
  {
   "cell_type": "code",
   "execution_count": 16,
   "metadata": {},
   "outputs": [
    {
     "data": {
      "text/plain": [
       "array([[ 0.06081133, -0.34034685,  0.80352559],\n",
       "       [ 1.55559978, -0.93009651,  0.56665959]])"
      ]
     },
     "execution_count": 16,
     "metadata": {},
     "output_type": "execute_result"
    }
   ],
   "source": [
    "data\n"
   ]
  },
  {
   "cell_type": "code",
   "execution_count": 17,
   "metadata": {},
   "outputs": [
    {
     "data": {
      "text/plain": [
       "array([[-0.93918867, -1.34034685, -0.19647441],\n",
       "       [ 0.55559978, -1.93009651, -0.43334041]])"
      ]
     },
     "execution_count": 17,
     "metadata": {},
     "output_type": "execute_result"
    }
   ],
   "source": [
    "data2"
   ]
  },
  {
   "cell_type": "code",
   "execution_count": 20,
   "metadata": {},
   "outputs": [],
   "source": [
    "data3=np.zeros((2,3)) #note the dimensions, if more than 1, must be described as a tuple"
   ]
  },
  {
   "cell_type": "code",
   "execution_count": 21,
   "metadata": {},
   "outputs": [
    {
     "ename": "NameError",
     "evalue": "name 'DATA3' is not defined",
     "output_type": "error",
     "traceback": [
      "\u001b[0;31m---------------------------------------------------------------------------\u001b[0m",
      "\u001b[0;31mNameError\u001b[0m                                 Traceback (most recent call last)",
      "\u001b[0;32m<ipython-input-21-1a461211d52c>\u001b[0m in \u001b[0;36m<module>\u001b[0;34m()\u001b[0m\n\u001b[0;32m----> 1\u001b[0;31m \u001b[0mDATA3\u001b[0m\u001b[0;34m\u001b[0m\u001b[0m\n\u001b[0m",
      "\u001b[0;31mNameError\u001b[0m: name 'DATA3' is not defined"
     ]
    }
   ],
   "source": [
    "DATA3"
   ]
  },
  {
   "cell_type": "code",
   "execution_count": 22,
   "metadata": {},
   "outputs": [
    {
     "data": {
      "text/plain": [
       "array([[ 0.,  0.,  0.],\n",
       "       [ 0.,  0.,  0.]])"
      ]
     },
     "execution_count": 22,
     "metadata": {},
     "output_type": "execute_result"
    }
   ],
   "source": [
    "data3 #variables are case sensitive"
   ]
  },
  {
   "cell_type": "code",
   "execution_count": 23,
   "metadata": {},
   "outputs": [],
   "source": [
    "arr=np.random.ranf(5)"
   ]
  },
  {
   "cell_type": "code",
   "execution_count": 24,
   "metadata": {},
   "outputs": [
    {
     "data": {
      "text/plain": [
       "array([ 0.68048407,  0.47492074,  0.42835878,  0.28051093,  0.5706605 ])"
      ]
     },
     "execution_count": 24,
     "metadata": {},
     "output_type": "execute_result"
    }
   ],
   "source": [
    "arr"
   ]
  },
  {
   "cell_type": "code",
   "execution_count": 26,
   "metadata": {},
   "outputs": [],
   "source": [
    "arr*=2"
   ]
  },
  {
   "cell_type": "code",
   "execution_count": 27,
   "metadata": {},
   "outputs": [
    {
     "data": {
      "text/plain": [
       "array([ 1.36096815,  0.94984148,  0.85671755,  0.56102187,  1.141321  ])"
      ]
     },
     "execution_count": 27,
     "metadata": {},
     "output_type": "execute_result"
    }
   ],
   "source": [
    "arr"
   ]
  },
  {
   "cell_type": "code",
   "execution_count": 28,
   "metadata": {},
   "outputs": [
    {
     "data": {
      "text/plain": [
       "array([1, 0, 0, 0, 1], dtype=int8)"
      ]
     },
     "execution_count": 28,
     "metadata": {},
     "output_type": "execute_result"
    }
   ],
   "source": [
    "arr.astype(np.int8)"
   ]
  },
  {
   "cell_type": "code",
   "execution_count": 29,
   "metadata": {},
   "outputs": [],
   "source": [
    "numeric_strings = np.array(['1.25', '-9.6', '42'], dtype=np.string_)"
   ]
  },
  {
   "cell_type": "code",
   "execution_count": 30,
   "metadata": {},
   "outputs": [
    {
     "data": {
      "text/plain": [
       "array([b'1.25', b'-9.6', b'42'],\n",
       "      dtype='|S4')"
      ]
     },
     "execution_count": 30,
     "metadata": {},
     "output_type": "execute_result"
    }
   ],
   "source": [
    "numeric_strings"
   ]
  },
  {
   "cell_type": "code",
   "execution_count": 31,
   "metadata": {},
   "outputs": [],
   "source": [
    "arr4=numeric_strings.astype(np.float64)"
   ]
  },
  {
   "cell_type": "code",
   "execution_count": 32,
   "metadata": {},
   "outputs": [
    {
     "data": {
      "text/plain": [
       "array([  1.25,  -9.6 ,  42.  ])"
      ]
     },
     "execution_count": 32,
     "metadata": {},
     "output_type": "execute_result"
    }
   ],
   "source": [
    "arr4"
   ]
  },
  {
   "cell_type": "code",
   "execution_count": 35,
   "metadata": {},
   "outputs": [
    {
     "data": {
      "text/plain": [
       "array([  1.25,  -9.6 ,  42.  ])"
      ]
     },
     "execution_count": 35,
     "metadata": {},
     "output_type": "execute_result"
    }
   ],
   "source": [
    "numeric_strings.astype(np.float64)"
   ]
  },
  {
   "cell_type": "code",
   "execution_count": null,
   "metadata": {},
   "outputs": [],
   "source": []
  },
  {
   "cell_type": "code",
   "execution_count": 34,
   "metadata": {},
   "outputs": [
    {
     "data": {
      "text/plain": [
       "array([  1.25,  -9.6 ,  42.  ])"
      ]
     },
     "execution_count": 34,
     "metadata": {},
     "output_type": "execute_result"
    }
   ],
   "source": [
    "numeric_strings.astype(float)"
   ]
  },
  {
   "cell_type": "code",
   "execution_count": 36,
   "metadata": {},
   "outputs": [],
   "source": [
    "arr=np.arange(15)"
   ]
  },
  {
   "cell_type": "code",
   "execution_count": 37,
   "metadata": {},
   "outputs": [
    {
     "data": {
      "text/plain": [
       "array([ 0,  1,  2,  3,  4,  5,  6,  7,  8,  9, 10, 11, 12, 13, 14])"
      ]
     },
     "execution_count": 37,
     "metadata": {},
     "output_type": "execute_result"
    }
   ],
   "source": [
    "arr"
   ]
  },
  {
   "cell_type": "code",
   "execution_count": 38,
   "metadata": {},
   "outputs": [],
   "source": [
    "arr[5:8]=64"
   ]
  },
  {
   "cell_type": "code",
   "execution_count": 39,
   "metadata": {},
   "outputs": [
    {
     "data": {
      "text/plain": [
       "array([ 0,  1,  2,  3,  4, 64, 64, 64,  8,  9, 10, 11, 12, 13, 14])"
      ]
     },
     "execution_count": 39,
     "metadata": {},
     "output_type": "execute_result"
    }
   ],
   "source": [
    "arr"
   ]
  },
  {
   "cell_type": "code",
   "execution_count": 45,
   "metadata": {},
   "outputs": [],
   "source": [
    "arr_slice=arr[10:14]"
   ]
  },
  {
   "cell_type": "code",
   "execution_count": null,
   "metadata": {},
   "outputs": [],
   "source": []
  },
  {
   "cell_type": "code",
   "execution_count": 46,
   "metadata": {},
   "outputs": [
    {
     "data": {
      "text/plain": [
       "array([10, 11, 12, 13])"
      ]
     },
     "execution_count": 46,
     "metadata": {},
     "output_type": "execute_result"
    }
   ],
   "source": [
    "arr_slice"
   ]
  },
  {
   "cell_type": "code",
   "execution_count": null,
   "metadata": {},
   "outputs": [],
   "source": []
  },
  {
   "cell_type": "code",
   "execution_count": 48,
   "metadata": {},
   "outputs": [],
   "source": [
    "arr_slice[0:2]=[22,33]"
   ]
  },
  {
   "cell_type": "code",
   "execution_count": 49,
   "metadata": {},
   "outputs": [
    {
     "data": {
      "text/plain": [
       "array([22, 33, 12, 13])"
      ]
     },
     "execution_count": 49,
     "metadata": {},
     "output_type": "execute_result"
    }
   ],
   "source": [
    "arr_slice"
   ]
  },
  {
   "cell_type": "code",
   "execution_count": 50,
   "metadata": {},
   "outputs": [
    {
     "data": {
      "text/plain": [
       "array([ 0,  1,  2,  3,  4, 64, 64, 64,  8,  9, 22, 33, 12, 13, 14])"
      ]
     },
     "execution_count": 50,
     "metadata": {},
     "output_type": "execute_result"
    }
   ],
   "source": [
    "arr"
   ]
  },
  {
   "cell_type": "code",
   "execution_count": 51,
   "metadata": {},
   "outputs": [],
   "source": [
    "arr_dup=arr"
   ]
  },
  {
   "cell_type": "code",
   "execution_count": 52,
   "metadata": {},
   "outputs": [
    {
     "data": {
      "text/plain": [
       "array([ 0,  1,  2,  3,  4, 64, 64, 64,  8,  9, 22, 33, 12, 13, 14])"
      ]
     },
     "execution_count": 52,
     "metadata": {},
     "output_type": "execute_result"
    }
   ],
   "source": [
    "arr_dup"
   ]
  },
  {
   "cell_type": "code",
   "execution_count": 53,
   "metadata": {},
   "outputs": [],
   "source": [
    "arr_slice[1]=1000"
   ]
  },
  {
   "cell_type": "code",
   "execution_count": 54,
   "metadata": {},
   "outputs": [
    {
     "data": {
      "text/plain": [
       "array([  22, 1000,   12,   13])"
      ]
     },
     "execution_count": 54,
     "metadata": {},
     "output_type": "execute_result"
    }
   ],
   "source": [
    "arr_slice"
   ]
  },
  {
   "cell_type": "code",
   "execution_count": 55,
   "metadata": {},
   "outputs": [
    {
     "data": {
      "text/plain": [
       "array([   0,    1,    2,    3,    4,   64,   64,   64,    8,    9,   22,\n",
       "       1000,   12,   13,   14])"
      ]
     },
     "execution_count": 55,
     "metadata": {},
     "output_type": "execute_result"
    }
   ],
   "source": [
    "arr"
   ]
  },
  {
   "cell_type": "code",
   "execution_count": 56,
   "metadata": {},
   "outputs": [
    {
     "data": {
      "text/plain": [
       "array([   0,    1,    2,    3,    4,   64,   64,   64,    8,    9,   22,\n",
       "       1000,   12,   13,   14])"
      ]
     },
     "execution_count": 56,
     "metadata": {},
     "output_type": "execute_result"
    }
   ],
   "source": [
    "arr_dup"
   ]
  },
  {
   "cell_type": "code",
   "execution_count": 66,
   "metadata": {},
   "outputs": [],
   "source": [
    "arr_2d=np.array([[1,2,3],[4,5,6],[7,8,9]])"
   ]
  },
  {
   "cell_type": "code",
   "execution_count": 73,
   "metadata": {},
   "outputs": [
    {
     "data": {
      "text/plain": [
       "array([[1, 2, 3],\n",
       "       [4, 5, 6],\n",
       "       [7, 8, 9]])"
      ]
     },
     "execution_count": 73,
     "metadata": {},
     "output_type": "execute_result"
    }
   ],
   "source": [
    "arr_2d"
   ]
  },
  {
   "cell_type": "code",
   "execution_count": null,
   "metadata": {},
   "outputs": [],
   "source": []
  },
  {
   "cell_type": "code",
   "execution_count": 67,
   "metadata": {},
   "outputs": [
    {
     "data": {
      "text/plain": [
       "array([4, 5, 6])"
      ]
     },
     "execution_count": 67,
     "metadata": {},
     "output_type": "execute_result"
    }
   ],
   "source": [
    "arr_2d[1]"
   ]
  },
  {
   "cell_type": "code",
   "execution_count": null,
   "metadata": {},
   "outputs": [],
   "source": []
  },
  {
   "cell_type": "code",
   "execution_count": 68,
   "metadata": {},
   "outputs": [
    {
     "data": {
      "text/plain": [
       "6"
      ]
     },
     "execution_count": 68,
     "metadata": {},
     "output_type": "execute_result"
    }
   ],
   "source": [
    "arr_2d[1][2]"
   ]
  },
  {
   "cell_type": "code",
   "execution_count": null,
   "metadata": {},
   "outputs": [],
   "source": []
  },
  {
   "cell_type": "code",
   "execution_count": 69,
   "metadata": {},
   "outputs": [
    {
     "data": {
      "text/plain": [
       "6"
      ]
     },
     "execution_count": 69,
     "metadata": {},
     "output_type": "execute_result"
    }
   ],
   "source": [
    "arr_2d[1, 2]"
   ]
  },
  {
   "cell_type": "code",
   "execution_count": null,
   "metadata": {},
   "outputs": [],
   "source": []
  },
  {
   "cell_type": "code",
   "execution_count": 70,
   "metadata": {},
   "outputs": [
    {
     "data": {
      "text/plain": [
       "array([[1, 2, 3],\n",
       "       [4, 5, 6]])"
      ]
     },
     "execution_count": 70,
     "metadata": {},
     "output_type": "execute_result"
    }
   ],
   "source": [
    "arr_2d[0:2]"
   ]
  },
  {
   "cell_type": "code",
   "execution_count": null,
   "metadata": {},
   "outputs": [],
   "source": []
  },
  {
   "cell_type": "code",
   "execution_count": 71,
   "metadata": {},
   "outputs": [
    {
     "data": {
      "text/plain": [
       "array([4, 5, 6])"
      ]
     },
     "execution_count": 71,
     "metadata": {},
     "output_type": "execute_result"
    }
   ],
   "source": [
    "arr_2d[:][1]"
   ]
  },
  {
   "cell_type": "code",
   "execution_count": null,
   "metadata": {},
   "outputs": [],
   "source": []
  },
  {
   "cell_type": "code",
   "execution_count": 72,
   "metadata": {},
   "outputs": [
    {
     "data": {
      "text/plain": [
       "array([2, 5, 8])"
      ]
     },
     "execution_count": 72,
     "metadata": {},
     "output_type": "execute_result"
    }
   ],
   "source": [
    "arr_2d[:,1]"
   ]
  },
  {
   "cell_type": "code",
   "execution_count": 74,
   "metadata": {},
   "outputs": [
    {
     "data": {
      "text/plain": [
       "array([[1, 2, 3],\n",
       "       [4, 5, 6],\n",
       "       [7, 8, 9]])"
      ]
     },
     "execution_count": 74,
     "metadata": {},
     "output_type": "execute_result"
    }
   ],
   "source": [
    "arr_2d"
   ]
  },
  {
   "cell_type": "code",
   "execution_count": 75,
   "metadata": {},
   "outputs": [],
   "source": [
    "aaa=arr_2d[1:2,1:]"
   ]
  },
  {
   "cell_type": "code",
   "execution_count": 76,
   "metadata": {},
   "outputs": [
    {
     "data": {
      "text/plain": [
       "array([[5, 6]])"
      ]
     },
     "execution_count": 76,
     "metadata": {},
     "output_type": "execute_result"
    }
   ],
   "source": [
    "aaa"
   ]
  },
  {
   "cell_type": "code",
   "execution_count": 77,
   "metadata": {},
   "outputs": [],
   "source": [
    "aaa=3"
   ]
  },
  {
   "cell_type": "code",
   "execution_count": 78,
   "metadata": {},
   "outputs": [
    {
     "data": {
      "text/plain": [
       "array([[1, 2, 3],\n",
       "       [4, 5, 6],\n",
       "       [7, 8, 9]])"
      ]
     },
     "execution_count": 78,
     "metadata": {},
     "output_type": "execute_result"
    }
   ],
   "source": [
    "arr_2d"
   ]
  },
  {
   "cell_type": "code",
   "execution_count": 80,
   "metadata": {},
   "outputs": [],
   "source": [
    "aaa=arr_2d[:2,1:]"
   ]
  },
  {
   "cell_type": "code",
   "execution_count": 81,
   "metadata": {},
   "outputs": [
    {
     "data": {
      "text/plain": [
       "array([[2, 3],\n",
       "       [5, 6]])"
      ]
     },
     "execution_count": 81,
     "metadata": {},
     "output_type": "execute_result"
    }
   ],
   "source": [
    "aaa"
   ]
  },
  {
   "cell_type": "code",
   "execution_count": 82,
   "metadata": {},
   "outputs": [],
   "source": [
    "aaa[:]=3"
   ]
  },
  {
   "cell_type": "code",
   "execution_count": 83,
   "metadata": {},
   "outputs": [
    {
     "data": {
      "text/plain": [
       "array([[3, 3],\n",
       "       [3, 3]])"
      ]
     },
     "execution_count": 83,
     "metadata": {},
     "output_type": "execute_result"
    }
   ],
   "source": [
    "aaa"
   ]
  },
  {
   "cell_type": "code",
   "execution_count": 84,
   "metadata": {},
   "outputs": [
    {
     "data": {
      "text/plain": [
       "array([[1, 3, 3],\n",
       "       [4, 3, 3],\n",
       "       [7, 8, 9]])"
      ]
     },
     "execution_count": 84,
     "metadata": {},
     "output_type": "execute_result"
    }
   ],
   "source": [
    "arr_2d"
   ]
  },
  {
   "cell_type": "code",
   "execution_count": 86,
   "metadata": {},
   "outputs": [
    {
     "data": {
      "text/plain": [
       "array([[1, 3, 3],\n",
       "       [7, 8, 9]])"
      ]
     },
     "execution_count": 86,
     "metadata": {},
     "output_type": "execute_result"
    }
   ],
   "source": [
    "arr_2d[[True, False, True]]"
   ]
  },
  {
   "cell_type": "code",
   "execution_count": 87,
   "metadata": {},
   "outputs": [
    {
     "data": {
      "text/plain": [
       "array([[4, 3, 3],\n",
       "       [1, 3, 3],\n",
       "       [4, 3, 3]])"
      ]
     },
     "execution_count": 87,
     "metadata": {},
     "output_type": "execute_result"
    }
   ],
   "source": [
    "arr_2d[[1,0,1]] # not equivalent to True and False"
   ]
  },
  {
   "cell_type": "code",
   "execution_count": 88,
   "metadata": {},
   "outputs": [
    {
     "data": {
      "text/plain": [
       "array([[1, 3, 3],\n",
       "       [4, 3, 3],\n",
       "       [7, 8, 9]])"
      ]
     },
     "execution_count": 88,
     "metadata": {},
     "output_type": "execute_result"
    }
   ],
   "source": [
    "arr_2d"
   ]
  },
  {
   "cell_type": "code",
   "execution_count": 89,
   "metadata": {},
   "outputs": [],
   "source": [
    "mask=(arr_2d<4)"
   ]
  },
  {
   "cell_type": "code",
   "execution_count": 90,
   "metadata": {},
   "outputs": [
    {
     "data": {
      "text/plain": [
       "array([[ True,  True,  True],\n",
       "       [False,  True,  True],\n",
       "       [False, False, False]], dtype=bool)"
      ]
     },
     "execution_count": 90,
     "metadata": {},
     "output_type": "execute_result"
    }
   ],
   "source": [
    "mask"
   ]
  },
  {
   "cell_type": "code",
   "execution_count": 93,
   "metadata": {},
   "outputs": [
    {
     "data": {
      "text/plain": [
       "array([1, 3, 3, 3, 3])"
      ]
     },
     "execution_count": 93,
     "metadata": {},
     "output_type": "execute_result"
    }
   ],
   "source": [
    "arr_2d[mask]"
   ]
  },
  {
   "cell_type": "code",
   "execution_count": null,
   "metadata": {},
   "outputs": [],
   "source": []
  },
  {
   "cell_type": "code",
   "execution_count": 94,
   "metadata": {},
   "outputs": [],
   "source": [
    "arr_2d[mask]=0"
   ]
  },
  {
   "cell_type": "code",
   "execution_count": 95,
   "metadata": {},
   "outputs": [
    {
     "data": {
      "text/plain": [
       "array([[0, 0, 0],\n",
       "       [4, 0, 0],\n",
       "       [7, 8, 9]])"
      ]
     },
     "execution_count": 95,
     "metadata": {},
     "output_type": "execute_result"
    }
   ],
   "source": [
    "arr_2d"
   ]
  },
  {
   "cell_type": "code",
   "execution_count": 96,
   "metadata": {},
   "outputs": [],
   "source": [
    "arr=np.arange(15).reshape(3,5)"
   ]
  },
  {
   "cell_type": "code",
   "execution_count": 97,
   "metadata": {},
   "outputs": [
    {
     "data": {
      "text/plain": [
       "array([[ 0,  1,  2,  3,  4],\n",
       "       [ 5,  6,  7,  8,  9],\n",
       "       [10, 11, 12, 13, 14]])"
      ]
     },
     "execution_count": 97,
     "metadata": {},
     "output_type": "execute_result"
    }
   ],
   "source": [
    "arr"
   ]
  },
  {
   "cell_type": "code",
   "execution_count": 98,
   "metadata": {},
   "outputs": [
    {
     "data": {
      "text/plain": [
       "array([[ 0,  5, 10],\n",
       "       [ 1,  6, 11],\n",
       "       [ 2,  7, 12],\n",
       "       [ 3,  8, 13],\n",
       "       [ 4,  9, 14]])"
      ]
     },
     "execution_count": 98,
     "metadata": {},
     "output_type": "execute_result"
    }
   ],
   "source": [
    "arr.T"
   ]
  },
  {
   "cell_type": "code",
   "execution_count": 100,
   "metadata": {},
   "outputs": [
    {
     "data": {
      "text/plain": [
       "array([[ 0,  5, 10],\n",
       "       [ 1,  6, 11],\n",
       "       [ 2,  7, 12],\n",
       "       [ 3,  8, 13],\n",
       "       [ 4,  9, 14]])"
      ]
     },
     "execution_count": 100,
     "metadata": {},
     "output_type": "execute_result"
    }
   ],
   "source": [
    "arr.transpose()"
   ]
  },
  {
   "cell_type": "code",
   "execution_count": 101,
   "metadata": {},
   "outputs": [
    {
     "data": {
      "text/plain": [
       "array([[125, 140, 155, 170, 185],\n",
       "       [140, 158, 176, 194, 212],\n",
       "       [155, 176, 197, 218, 239],\n",
       "       [170, 194, 218, 242, 266],\n",
       "       [185, 212, 239, 266, 293]])"
      ]
     },
     "execution_count": 101,
     "metadata": {},
     "output_type": "execute_result"
    }
   ],
   "source": [
    "np.dot(arr.T,arr)"
   ]
  },
  {
   "cell_type": "code",
   "execution_count": 103,
   "metadata": {},
   "outputs": [],
   "source": [
    "arr_3d=np.random.randn(3,2,4)"
   ]
  },
  {
   "cell_type": "code",
   "execution_count": 104,
   "metadata": {},
   "outputs": [
    {
     "data": {
      "text/plain": [
       "array([[[-0.1660294 ,  0.40210745, -0.14164942, -2.46489654],\n",
       "        [ 0.09055   , -2.63444751, -0.15676431,  1.10844618]],\n",
       "\n",
       "       [[-0.07913124, -0.61679695, -1.71746927,  0.20324568],\n",
       "        [ 0.85242228, -0.9369885 ,  0.87163956, -0.30549868]],\n",
       "\n",
       "       [[ 0.50494715, -0.25397581, -1.42002976, -0.06618335],\n",
       "        [ 0.97598386, -0.79028664, -0.84216127, -0.34726357]]])"
      ]
     },
     "execution_count": 104,
     "metadata": {},
     "output_type": "execute_result"
    }
   ],
   "source": [
    "arr_3d"
   ]
  },
  {
   "cell_type": "code",
   "execution_count": 105,
   "metadata": {},
   "outputs": [
    {
     "data": {
      "text/plain": [
       "array([[ 0.50494715, -0.25397581, -1.42002976, -0.06618335],\n",
       "       [ 0.97598386, -0.79028664, -0.84216127, -0.34726357]])"
      ]
     },
     "execution_count": 105,
     "metadata": {},
     "output_type": "execute_result"
    }
   ],
   "source": [
    "arr_3d[2,:,:]"
   ]
  },
  {
   "cell_type": "code",
   "execution_count": 106,
   "metadata": {},
   "outputs": [],
   "source": [
    "arr_4d=np.random.rand(5,4,3,2)"
   ]
  },
  {
   "cell_type": "code",
   "execution_count": 107,
   "metadata": {},
   "outputs": [
    {
     "data": {
      "text/plain": [
       "array([[[[ 0.58203194,  0.99672852],\n",
       "         [ 0.95439571,  0.06081481],\n",
       "         [ 0.27397881,  0.23098347]],\n",
       "\n",
       "        [[ 0.59268706,  0.99053831],\n",
       "         [ 0.62436171,  0.20729433],\n",
       "         [ 0.81241298,  0.11217497]],\n",
       "\n",
       "        [[ 0.10839404,  0.01245308],\n",
       "         [ 0.26157863,  0.16778397],\n",
       "         [ 0.11309396,  0.34640371]],\n",
       "\n",
       "        [[ 0.76620982,  0.56717096],\n",
       "         [ 0.44733736,  0.14145325],\n",
       "         [ 0.4205341 ,  0.54204642]]],\n",
       "\n",
       "\n",
       "       [[[ 0.01673896,  0.56086403],\n",
       "         [ 0.14794764,  0.1970901 ],\n",
       "         [ 0.39595995,  0.59308125]],\n",
       "\n",
       "        [[ 0.87717128,  0.71555948],\n",
       "         [ 0.58762965,  0.25212791],\n",
       "         [ 0.76566273,  0.18372756]],\n",
       "\n",
       "        [[ 0.54749573,  0.51716076],\n",
       "         [ 0.58655176,  0.34770462],\n",
       "         [ 0.02388659,  0.54939162]],\n",
       "\n",
       "        [[ 0.64022852,  0.50812616],\n",
       "         [ 0.03612025,  0.04299898],\n",
       "         [ 0.85436101,  0.00620602]]],\n",
       "\n",
       "\n",
       "       [[[ 0.28434862,  0.53792119],\n",
       "         [ 0.18264797,  0.26878877],\n",
       "         [ 0.31184823,  0.96853188]],\n",
       "\n",
       "        [[ 0.09591359,  0.14901991],\n",
       "         [ 0.92117506,  0.50186124],\n",
       "         [ 0.17159504,  0.14297275]],\n",
       "\n",
       "        [[ 0.0429664 ,  0.61816269],\n",
       "         [ 0.37432435,  0.06784762],\n",
       "         [ 0.54466981,  0.0616134 ]],\n",
       "\n",
       "        [[ 0.54800763,  0.21893833],\n",
       "         [ 0.99891994,  0.89204529],\n",
       "         [ 0.06795473,  0.26228035]]],\n",
       "\n",
       "\n",
       "       [[[ 0.30593115,  0.46849309],\n",
       "         [ 0.98471322,  0.56986737],\n",
       "         [ 0.82185835,  0.89987421]],\n",
       "\n",
       "        [[ 0.82106256,  0.81727098],\n",
       "         [ 0.4216946 ,  0.1803605 ],\n",
       "         [ 0.55152745,  0.1171487 ]],\n",
       "\n",
       "        [[ 0.19602012,  0.31656029],\n",
       "         [ 0.38181283,  0.5131029 ],\n",
       "         [ 0.62765698,  0.58017951]],\n",
       "\n",
       "        [[ 0.78417882,  0.09905019],\n",
       "         [ 0.51411775,  0.37280825],\n",
       "         [ 0.45301194,  0.23634296]]],\n",
       "\n",
       "\n",
       "       [[[ 0.28397196,  0.14690478],\n",
       "         [ 0.21889528,  0.19975804],\n",
       "         [ 0.23284866,  0.8488426 ]],\n",
       "\n",
       "        [[ 0.50194126,  0.59268194],\n",
       "         [ 0.29652035,  0.126346  ],\n",
       "         [ 0.98939171,  0.29192809]],\n",
       "\n",
       "        [[ 0.01143753,  0.67441685],\n",
       "         [ 0.82283516,  0.16233608],\n",
       "         [ 0.10542081,  0.22842596]],\n",
       "\n",
       "        [[ 0.84651201,  0.80644252],\n",
       "         [ 0.53530776,  0.59615516],\n",
       "         [ 0.18016168,  0.1946854 ]]]])"
      ]
     },
     "execution_count": 107,
     "metadata": {},
     "output_type": "execute_result"
    }
   ],
   "source": [
    "arr_4d"
   ]
  },
  {
   "cell_type": "code",
   "execution_count": 116,
   "metadata": {},
   "outputs": [
    {
     "data": {
      "text/plain": [
       "array([ -5.00000000e+00,  -4.99000000e+00,  -4.98000000e+00,\n",
       "        -4.97000000e+00,  -4.96000000e+00,  -4.95000000e+00,\n",
       "        -4.94000000e+00,  -4.93000000e+00,  -4.92000000e+00,\n",
       "        -4.91000000e+00,  -4.90000000e+00,  -4.89000000e+00,\n",
       "        -4.88000000e+00,  -4.87000000e+00,  -4.86000000e+00,\n",
       "        -4.85000000e+00,  -4.84000000e+00,  -4.83000000e+00,\n",
       "        -4.82000000e+00,  -4.81000000e+00,  -4.80000000e+00,\n",
       "        -4.79000000e+00,  -4.78000000e+00,  -4.77000000e+00,\n",
       "        -4.76000000e+00,  -4.75000000e+00,  -4.74000000e+00,\n",
       "        -4.73000000e+00,  -4.72000000e+00,  -4.71000000e+00,\n",
       "        -4.70000000e+00,  -4.69000000e+00,  -4.68000000e+00,\n",
       "        -4.67000000e+00,  -4.66000000e+00,  -4.65000000e+00,\n",
       "        -4.64000000e+00,  -4.63000000e+00,  -4.62000000e+00,\n",
       "        -4.61000000e+00,  -4.60000000e+00,  -4.59000000e+00,\n",
       "        -4.58000000e+00,  -4.57000000e+00,  -4.56000000e+00,\n",
       "        -4.55000000e+00,  -4.54000000e+00,  -4.53000000e+00,\n",
       "        -4.52000000e+00,  -4.51000000e+00,  -4.50000000e+00,\n",
       "        -4.49000000e+00,  -4.48000000e+00,  -4.47000000e+00,\n",
       "        -4.46000000e+00,  -4.45000000e+00,  -4.44000000e+00,\n",
       "        -4.43000000e+00,  -4.42000000e+00,  -4.41000000e+00,\n",
       "        -4.40000000e+00,  -4.39000000e+00,  -4.38000000e+00,\n",
       "        -4.37000000e+00,  -4.36000000e+00,  -4.35000000e+00,\n",
       "        -4.34000000e+00,  -4.33000000e+00,  -4.32000000e+00,\n",
       "        -4.31000000e+00,  -4.30000000e+00,  -4.29000000e+00,\n",
       "        -4.28000000e+00,  -4.27000000e+00,  -4.26000000e+00,\n",
       "        -4.25000000e+00,  -4.24000000e+00,  -4.23000000e+00,\n",
       "        -4.22000000e+00,  -4.21000000e+00,  -4.20000000e+00,\n",
       "        -4.19000000e+00,  -4.18000000e+00,  -4.17000000e+00,\n",
       "        -4.16000000e+00,  -4.15000000e+00,  -4.14000000e+00,\n",
       "        -4.13000000e+00,  -4.12000000e+00,  -4.11000000e+00,\n",
       "        -4.10000000e+00,  -4.09000000e+00,  -4.08000000e+00,\n",
       "        -4.07000000e+00,  -4.06000000e+00,  -4.05000000e+00,\n",
       "        -4.04000000e+00,  -4.03000000e+00,  -4.02000000e+00,\n",
       "        -4.01000000e+00,  -4.00000000e+00,  -3.99000000e+00,\n",
       "        -3.98000000e+00,  -3.97000000e+00,  -3.96000000e+00,\n",
       "        -3.95000000e+00,  -3.94000000e+00,  -3.93000000e+00,\n",
       "        -3.92000000e+00,  -3.91000000e+00,  -3.90000000e+00,\n",
       "        -3.89000000e+00,  -3.88000000e+00,  -3.87000000e+00,\n",
       "        -3.86000000e+00,  -3.85000000e+00,  -3.84000000e+00,\n",
       "        -3.83000000e+00,  -3.82000000e+00,  -3.81000000e+00,\n",
       "        -3.80000000e+00,  -3.79000000e+00,  -3.78000000e+00,\n",
       "        -3.77000000e+00,  -3.76000000e+00,  -3.75000000e+00,\n",
       "        -3.74000000e+00,  -3.73000000e+00,  -3.72000000e+00,\n",
       "        -3.71000000e+00,  -3.70000000e+00,  -3.69000000e+00,\n",
       "        -3.68000000e+00,  -3.67000000e+00,  -3.66000000e+00,\n",
       "        -3.65000000e+00,  -3.64000000e+00,  -3.63000000e+00,\n",
       "        -3.62000000e+00,  -3.61000000e+00,  -3.60000000e+00,\n",
       "        -3.59000000e+00,  -3.58000000e+00,  -3.57000000e+00,\n",
       "        -3.56000000e+00,  -3.55000000e+00,  -3.54000000e+00,\n",
       "        -3.53000000e+00,  -3.52000000e+00,  -3.51000000e+00,\n",
       "        -3.50000000e+00,  -3.49000000e+00,  -3.48000000e+00,\n",
       "        -3.47000000e+00,  -3.46000000e+00,  -3.45000000e+00,\n",
       "        -3.44000000e+00,  -3.43000000e+00,  -3.42000000e+00,\n",
       "        -3.41000000e+00,  -3.40000000e+00,  -3.39000000e+00,\n",
       "        -3.38000000e+00,  -3.37000000e+00,  -3.36000000e+00,\n",
       "        -3.35000000e+00,  -3.34000000e+00,  -3.33000000e+00,\n",
       "        -3.32000000e+00,  -3.31000000e+00,  -3.30000000e+00,\n",
       "        -3.29000000e+00,  -3.28000000e+00,  -3.27000000e+00,\n",
       "        -3.26000000e+00,  -3.25000000e+00,  -3.24000000e+00,\n",
       "        -3.23000000e+00,  -3.22000000e+00,  -3.21000000e+00,\n",
       "        -3.20000000e+00,  -3.19000000e+00,  -3.18000000e+00,\n",
       "        -3.17000000e+00,  -3.16000000e+00,  -3.15000000e+00,\n",
       "        -3.14000000e+00,  -3.13000000e+00,  -3.12000000e+00,\n",
       "        -3.11000000e+00,  -3.10000000e+00,  -3.09000000e+00,\n",
       "        -3.08000000e+00,  -3.07000000e+00,  -3.06000000e+00,\n",
       "        -3.05000000e+00,  -3.04000000e+00,  -3.03000000e+00,\n",
       "        -3.02000000e+00,  -3.01000000e+00,  -3.00000000e+00,\n",
       "        -2.99000000e+00,  -2.98000000e+00,  -2.97000000e+00,\n",
       "        -2.96000000e+00,  -2.95000000e+00,  -2.94000000e+00,\n",
       "        -2.93000000e+00,  -2.92000000e+00,  -2.91000000e+00,\n",
       "        -2.90000000e+00,  -2.89000000e+00,  -2.88000000e+00,\n",
       "        -2.87000000e+00,  -2.86000000e+00,  -2.85000000e+00,\n",
       "        -2.84000000e+00,  -2.83000000e+00,  -2.82000000e+00,\n",
       "        -2.81000000e+00,  -2.80000000e+00,  -2.79000000e+00,\n",
       "        -2.78000000e+00,  -2.77000000e+00,  -2.76000000e+00,\n",
       "        -2.75000000e+00,  -2.74000000e+00,  -2.73000000e+00,\n",
       "        -2.72000000e+00,  -2.71000000e+00,  -2.70000000e+00,\n",
       "        -2.69000000e+00,  -2.68000000e+00,  -2.67000000e+00,\n",
       "        -2.66000000e+00,  -2.65000000e+00,  -2.64000000e+00,\n",
       "        -2.63000000e+00,  -2.62000000e+00,  -2.61000000e+00,\n",
       "        -2.60000000e+00,  -2.59000000e+00,  -2.58000000e+00,\n",
       "        -2.57000000e+00,  -2.56000000e+00,  -2.55000000e+00,\n",
       "        -2.54000000e+00,  -2.53000000e+00,  -2.52000000e+00,\n",
       "        -2.51000000e+00,  -2.50000000e+00,  -2.49000000e+00,\n",
       "        -2.48000000e+00,  -2.47000000e+00,  -2.46000000e+00,\n",
       "        -2.45000000e+00,  -2.44000000e+00,  -2.43000000e+00,\n",
       "        -2.42000000e+00,  -2.41000000e+00,  -2.40000000e+00,\n",
       "        -2.39000000e+00,  -2.38000000e+00,  -2.37000000e+00,\n",
       "        -2.36000000e+00,  -2.35000000e+00,  -2.34000000e+00,\n",
       "        -2.33000000e+00,  -2.32000000e+00,  -2.31000000e+00,\n",
       "        -2.30000000e+00,  -2.29000000e+00,  -2.28000000e+00,\n",
       "        -2.27000000e+00,  -2.26000000e+00,  -2.25000000e+00,\n",
       "        -2.24000000e+00,  -2.23000000e+00,  -2.22000000e+00,\n",
       "        -2.21000000e+00,  -2.20000000e+00,  -2.19000000e+00,\n",
       "        -2.18000000e+00,  -2.17000000e+00,  -2.16000000e+00,\n",
       "        -2.15000000e+00,  -2.14000000e+00,  -2.13000000e+00,\n",
       "        -2.12000000e+00,  -2.11000000e+00,  -2.10000000e+00,\n",
       "        -2.09000000e+00,  -2.08000000e+00,  -2.07000000e+00,\n",
       "        -2.06000000e+00,  -2.05000000e+00,  -2.04000000e+00,\n",
       "        -2.03000000e+00,  -2.02000000e+00,  -2.01000000e+00,\n",
       "        -2.00000000e+00,  -1.99000000e+00,  -1.98000000e+00,\n",
       "        -1.97000000e+00,  -1.96000000e+00,  -1.95000000e+00,\n",
       "        -1.94000000e+00,  -1.93000000e+00,  -1.92000000e+00,\n",
       "        -1.91000000e+00,  -1.90000000e+00,  -1.89000000e+00,\n",
       "        -1.88000000e+00,  -1.87000000e+00,  -1.86000000e+00,\n",
       "        -1.85000000e+00,  -1.84000000e+00,  -1.83000000e+00,\n",
       "        -1.82000000e+00,  -1.81000000e+00,  -1.80000000e+00,\n",
       "        -1.79000000e+00,  -1.78000000e+00,  -1.77000000e+00,\n",
       "        -1.76000000e+00,  -1.75000000e+00,  -1.74000000e+00,\n",
       "        -1.73000000e+00,  -1.72000000e+00,  -1.71000000e+00,\n",
       "        -1.70000000e+00,  -1.69000000e+00,  -1.68000000e+00,\n",
       "        -1.67000000e+00,  -1.66000000e+00,  -1.65000000e+00,\n",
       "        -1.64000000e+00,  -1.63000000e+00,  -1.62000000e+00,\n",
       "        -1.61000000e+00,  -1.60000000e+00,  -1.59000000e+00,\n",
       "        -1.58000000e+00,  -1.57000000e+00,  -1.56000000e+00,\n",
       "        -1.55000000e+00,  -1.54000000e+00,  -1.53000000e+00,\n",
       "        -1.52000000e+00,  -1.51000000e+00,  -1.50000000e+00,\n",
       "        -1.49000000e+00,  -1.48000000e+00,  -1.47000000e+00,\n",
       "        -1.46000000e+00,  -1.45000000e+00,  -1.44000000e+00,\n",
       "        -1.43000000e+00,  -1.42000000e+00,  -1.41000000e+00,\n",
       "        -1.40000000e+00,  -1.39000000e+00,  -1.38000000e+00,\n",
       "        -1.37000000e+00,  -1.36000000e+00,  -1.35000000e+00,\n",
       "        -1.34000000e+00,  -1.33000000e+00,  -1.32000000e+00,\n",
       "        -1.31000000e+00,  -1.30000000e+00,  -1.29000000e+00,\n",
       "        -1.28000000e+00,  -1.27000000e+00,  -1.26000000e+00,\n",
       "        -1.25000000e+00,  -1.24000000e+00,  -1.23000000e+00,\n",
       "        -1.22000000e+00,  -1.21000000e+00,  -1.20000000e+00,\n",
       "        -1.19000000e+00,  -1.18000000e+00,  -1.17000000e+00,\n",
       "        -1.16000000e+00,  -1.15000000e+00,  -1.14000000e+00,\n",
       "        -1.13000000e+00,  -1.12000000e+00,  -1.11000000e+00,\n",
       "        -1.10000000e+00,  -1.09000000e+00,  -1.08000000e+00,\n",
       "        -1.07000000e+00,  -1.06000000e+00,  -1.05000000e+00,\n",
       "        -1.04000000e+00,  -1.03000000e+00,  -1.02000000e+00,\n",
       "        -1.01000000e+00,  -1.00000000e+00,  -9.90000000e-01,\n",
       "        -9.80000000e-01,  -9.70000000e-01,  -9.60000000e-01,\n",
       "        -9.50000000e-01,  -9.40000000e-01,  -9.30000000e-01,\n",
       "        -9.20000000e-01,  -9.10000000e-01,  -9.00000000e-01,\n",
       "        -8.90000000e-01,  -8.80000000e-01,  -8.70000000e-01,\n",
       "        -8.60000000e-01,  -8.50000000e-01,  -8.40000000e-01,\n",
       "        -8.30000000e-01,  -8.20000000e-01,  -8.10000000e-01,\n",
       "        -8.00000000e-01,  -7.90000000e-01,  -7.80000000e-01,\n",
       "        -7.70000000e-01,  -7.60000000e-01,  -7.50000000e-01,\n",
       "        -7.40000000e-01,  -7.30000000e-01,  -7.20000000e-01,\n",
       "        -7.10000000e-01,  -7.00000000e-01,  -6.90000000e-01,\n",
       "        -6.80000000e-01,  -6.70000000e-01,  -6.60000000e-01,\n",
       "        -6.50000000e-01,  -6.40000000e-01,  -6.30000000e-01,\n",
       "        -6.20000000e-01,  -6.10000000e-01,  -6.00000000e-01,\n",
       "        -5.90000000e-01,  -5.80000000e-01,  -5.70000000e-01,\n",
       "        -5.60000000e-01,  -5.50000000e-01,  -5.40000000e-01,\n",
       "        -5.30000000e-01,  -5.20000000e-01,  -5.10000000e-01,\n",
       "        -5.00000000e-01,  -4.90000000e-01,  -4.80000000e-01,\n",
       "        -4.70000000e-01,  -4.60000000e-01,  -4.50000000e-01,\n",
       "        -4.40000000e-01,  -4.30000000e-01,  -4.20000000e-01,\n",
       "        -4.10000000e-01,  -4.00000000e-01,  -3.90000000e-01,\n",
       "        -3.80000000e-01,  -3.70000000e-01,  -3.60000000e-01,\n",
       "        -3.50000000e-01,  -3.40000000e-01,  -3.30000000e-01,\n",
       "        -3.20000000e-01,  -3.10000000e-01,  -3.00000000e-01,\n",
       "        -2.90000000e-01,  -2.80000000e-01,  -2.70000000e-01,\n",
       "        -2.60000000e-01,  -2.50000000e-01,  -2.40000000e-01,\n",
       "        -2.30000000e-01,  -2.20000000e-01,  -2.10000000e-01,\n",
       "        -2.00000000e-01,  -1.90000000e-01,  -1.80000000e-01,\n",
       "        -1.70000000e-01,  -1.60000000e-01,  -1.50000000e-01,\n",
       "        -1.40000000e-01,  -1.30000000e-01,  -1.20000000e-01,\n",
       "        -1.10000000e-01,  -1.00000000e-01,  -9.00000000e-02,\n",
       "        -8.00000000e-02,  -7.00000000e-02,  -6.00000000e-02,\n",
       "        -5.00000000e-02,  -4.00000000e-02,  -3.00000000e-02,\n",
       "        -2.00000000e-02,  -1.00000000e-02,  -1.06581410e-13,\n",
       "         1.00000000e-02,   2.00000000e-02,   3.00000000e-02,\n",
       "         4.00000000e-02,   5.00000000e-02,   6.00000000e-02,\n",
       "         7.00000000e-02,   8.00000000e-02,   9.00000000e-02,\n",
       "         1.00000000e-01,   1.10000000e-01,   1.20000000e-01,\n",
       "         1.30000000e-01,   1.40000000e-01,   1.50000000e-01,\n",
       "         1.60000000e-01,   1.70000000e-01,   1.80000000e-01,\n",
       "         1.90000000e-01,   2.00000000e-01,   2.10000000e-01,\n",
       "         2.20000000e-01,   2.30000000e-01,   2.40000000e-01,\n",
       "         2.50000000e-01,   2.60000000e-01,   2.70000000e-01,\n",
       "         2.80000000e-01,   2.90000000e-01,   3.00000000e-01,\n",
       "         3.10000000e-01,   3.20000000e-01,   3.30000000e-01,\n",
       "         3.40000000e-01,   3.50000000e-01,   3.60000000e-01,\n",
       "         3.70000000e-01,   3.80000000e-01,   3.90000000e-01,\n",
       "         4.00000000e-01,   4.10000000e-01,   4.20000000e-01,\n",
       "         4.30000000e-01,   4.40000000e-01,   4.50000000e-01,\n",
       "         4.60000000e-01,   4.70000000e-01,   4.80000000e-01,\n",
       "         4.90000000e-01,   5.00000000e-01,   5.10000000e-01,\n",
       "         5.20000000e-01,   5.30000000e-01,   5.40000000e-01,\n",
       "         5.50000000e-01,   5.60000000e-01,   5.70000000e-01,\n",
       "         5.80000000e-01,   5.90000000e-01,   6.00000000e-01,\n",
       "         6.10000000e-01,   6.20000000e-01,   6.30000000e-01,\n",
       "         6.40000000e-01,   6.50000000e-01,   6.60000000e-01,\n",
       "         6.70000000e-01,   6.80000000e-01,   6.90000000e-01,\n",
       "         7.00000000e-01,   7.10000000e-01,   7.20000000e-01,\n",
       "         7.30000000e-01,   7.40000000e-01,   7.50000000e-01,\n",
       "         7.60000000e-01,   7.70000000e-01,   7.80000000e-01,\n",
       "         7.90000000e-01,   8.00000000e-01,   8.10000000e-01,\n",
       "         8.20000000e-01,   8.30000000e-01,   8.40000000e-01,\n",
       "         8.50000000e-01,   8.60000000e-01,   8.70000000e-01,\n",
       "         8.80000000e-01,   8.90000000e-01,   9.00000000e-01,\n",
       "         9.10000000e-01,   9.20000000e-01,   9.30000000e-01,\n",
       "         9.40000000e-01,   9.50000000e-01,   9.60000000e-01,\n",
       "         9.70000000e-01,   9.80000000e-01,   9.90000000e-01,\n",
       "         1.00000000e+00,   1.01000000e+00,   1.02000000e+00,\n",
       "         1.03000000e+00,   1.04000000e+00,   1.05000000e+00,\n",
       "         1.06000000e+00,   1.07000000e+00,   1.08000000e+00,\n",
       "         1.09000000e+00,   1.10000000e+00,   1.11000000e+00,\n",
       "         1.12000000e+00,   1.13000000e+00,   1.14000000e+00,\n",
       "         1.15000000e+00,   1.16000000e+00,   1.17000000e+00,\n",
       "         1.18000000e+00,   1.19000000e+00,   1.20000000e+00,\n",
       "         1.21000000e+00,   1.22000000e+00,   1.23000000e+00,\n",
       "         1.24000000e+00,   1.25000000e+00,   1.26000000e+00,\n",
       "         1.27000000e+00,   1.28000000e+00,   1.29000000e+00,\n",
       "         1.30000000e+00,   1.31000000e+00,   1.32000000e+00,\n",
       "         1.33000000e+00,   1.34000000e+00,   1.35000000e+00,\n",
       "         1.36000000e+00,   1.37000000e+00,   1.38000000e+00,\n",
       "         1.39000000e+00,   1.40000000e+00,   1.41000000e+00,\n",
       "         1.42000000e+00,   1.43000000e+00,   1.44000000e+00,\n",
       "         1.45000000e+00,   1.46000000e+00,   1.47000000e+00,\n",
       "         1.48000000e+00,   1.49000000e+00,   1.50000000e+00,\n",
       "         1.51000000e+00,   1.52000000e+00,   1.53000000e+00,\n",
       "         1.54000000e+00,   1.55000000e+00,   1.56000000e+00,\n",
       "         1.57000000e+00,   1.58000000e+00,   1.59000000e+00,\n",
       "         1.60000000e+00,   1.61000000e+00,   1.62000000e+00,\n",
       "         1.63000000e+00,   1.64000000e+00,   1.65000000e+00,\n",
       "         1.66000000e+00,   1.67000000e+00,   1.68000000e+00,\n",
       "         1.69000000e+00,   1.70000000e+00,   1.71000000e+00,\n",
       "         1.72000000e+00,   1.73000000e+00,   1.74000000e+00,\n",
       "         1.75000000e+00,   1.76000000e+00,   1.77000000e+00,\n",
       "         1.78000000e+00,   1.79000000e+00,   1.80000000e+00,\n",
       "         1.81000000e+00,   1.82000000e+00,   1.83000000e+00,\n",
       "         1.84000000e+00,   1.85000000e+00,   1.86000000e+00,\n",
       "         1.87000000e+00,   1.88000000e+00,   1.89000000e+00,\n",
       "         1.90000000e+00,   1.91000000e+00,   1.92000000e+00,\n",
       "         1.93000000e+00,   1.94000000e+00,   1.95000000e+00,\n",
       "         1.96000000e+00,   1.97000000e+00,   1.98000000e+00,\n",
       "         1.99000000e+00,   2.00000000e+00,   2.01000000e+00,\n",
       "         2.02000000e+00,   2.03000000e+00,   2.04000000e+00,\n",
       "         2.05000000e+00,   2.06000000e+00,   2.07000000e+00,\n",
       "         2.08000000e+00,   2.09000000e+00,   2.10000000e+00,\n",
       "         2.11000000e+00,   2.12000000e+00,   2.13000000e+00,\n",
       "         2.14000000e+00,   2.15000000e+00,   2.16000000e+00,\n",
       "         2.17000000e+00,   2.18000000e+00,   2.19000000e+00,\n",
       "         2.20000000e+00,   2.21000000e+00,   2.22000000e+00,\n",
       "         2.23000000e+00,   2.24000000e+00,   2.25000000e+00,\n",
       "         2.26000000e+00,   2.27000000e+00,   2.28000000e+00,\n",
       "         2.29000000e+00,   2.30000000e+00,   2.31000000e+00,\n",
       "         2.32000000e+00,   2.33000000e+00,   2.34000000e+00,\n",
       "         2.35000000e+00,   2.36000000e+00,   2.37000000e+00,\n",
       "         2.38000000e+00,   2.39000000e+00,   2.40000000e+00,\n",
       "         2.41000000e+00,   2.42000000e+00,   2.43000000e+00,\n",
       "         2.44000000e+00,   2.45000000e+00,   2.46000000e+00,\n",
       "         2.47000000e+00,   2.48000000e+00,   2.49000000e+00,\n",
       "         2.50000000e+00,   2.51000000e+00,   2.52000000e+00,\n",
       "         2.53000000e+00,   2.54000000e+00,   2.55000000e+00,\n",
       "         2.56000000e+00,   2.57000000e+00,   2.58000000e+00,\n",
       "         2.59000000e+00,   2.60000000e+00,   2.61000000e+00,\n",
       "         2.62000000e+00,   2.63000000e+00,   2.64000000e+00,\n",
       "         2.65000000e+00,   2.66000000e+00,   2.67000000e+00,\n",
       "         2.68000000e+00,   2.69000000e+00,   2.70000000e+00,\n",
       "         2.71000000e+00,   2.72000000e+00,   2.73000000e+00,\n",
       "         2.74000000e+00,   2.75000000e+00,   2.76000000e+00,\n",
       "         2.77000000e+00,   2.78000000e+00,   2.79000000e+00,\n",
       "         2.80000000e+00,   2.81000000e+00,   2.82000000e+00,\n",
       "         2.83000000e+00,   2.84000000e+00,   2.85000000e+00,\n",
       "         2.86000000e+00,   2.87000000e+00,   2.88000000e+00,\n",
       "         2.89000000e+00,   2.90000000e+00,   2.91000000e+00,\n",
       "         2.92000000e+00,   2.93000000e+00,   2.94000000e+00,\n",
       "         2.95000000e+00,   2.96000000e+00,   2.97000000e+00,\n",
       "         2.98000000e+00,   2.99000000e+00,   3.00000000e+00,\n",
       "         3.01000000e+00,   3.02000000e+00,   3.03000000e+00,\n",
       "         3.04000000e+00,   3.05000000e+00,   3.06000000e+00,\n",
       "         3.07000000e+00,   3.08000000e+00,   3.09000000e+00,\n",
       "         3.10000000e+00,   3.11000000e+00,   3.12000000e+00,\n",
       "         3.13000000e+00,   3.14000000e+00,   3.15000000e+00,\n",
       "         3.16000000e+00,   3.17000000e+00,   3.18000000e+00,\n",
       "         3.19000000e+00,   3.20000000e+00,   3.21000000e+00,\n",
       "         3.22000000e+00,   3.23000000e+00,   3.24000000e+00,\n",
       "         3.25000000e+00,   3.26000000e+00,   3.27000000e+00,\n",
       "         3.28000000e+00,   3.29000000e+00,   3.30000000e+00,\n",
       "         3.31000000e+00,   3.32000000e+00,   3.33000000e+00,\n",
       "         3.34000000e+00,   3.35000000e+00,   3.36000000e+00,\n",
       "         3.37000000e+00,   3.38000000e+00,   3.39000000e+00,\n",
       "         3.40000000e+00,   3.41000000e+00,   3.42000000e+00,\n",
       "         3.43000000e+00,   3.44000000e+00,   3.45000000e+00,\n",
       "         3.46000000e+00,   3.47000000e+00,   3.48000000e+00,\n",
       "         3.49000000e+00,   3.50000000e+00,   3.51000000e+00,\n",
       "         3.52000000e+00,   3.53000000e+00,   3.54000000e+00,\n",
       "         3.55000000e+00,   3.56000000e+00,   3.57000000e+00,\n",
       "         3.58000000e+00,   3.59000000e+00,   3.60000000e+00,\n",
       "         3.61000000e+00,   3.62000000e+00,   3.63000000e+00,\n",
       "         3.64000000e+00,   3.65000000e+00,   3.66000000e+00,\n",
       "         3.67000000e+00,   3.68000000e+00,   3.69000000e+00,\n",
       "         3.70000000e+00,   3.71000000e+00,   3.72000000e+00,\n",
       "         3.73000000e+00,   3.74000000e+00,   3.75000000e+00,\n",
       "         3.76000000e+00,   3.77000000e+00,   3.78000000e+00,\n",
       "         3.79000000e+00,   3.80000000e+00,   3.81000000e+00,\n",
       "         3.82000000e+00,   3.83000000e+00,   3.84000000e+00,\n",
       "         3.85000000e+00,   3.86000000e+00,   3.87000000e+00,\n",
       "         3.88000000e+00,   3.89000000e+00,   3.90000000e+00,\n",
       "         3.91000000e+00,   3.92000000e+00,   3.93000000e+00,\n",
       "         3.94000000e+00,   3.95000000e+00,   3.96000000e+00,\n",
       "         3.97000000e+00,   3.98000000e+00,   3.99000000e+00,\n",
       "         4.00000000e+00,   4.01000000e+00,   4.02000000e+00,\n",
       "         4.03000000e+00,   4.04000000e+00,   4.05000000e+00,\n",
       "         4.06000000e+00,   4.07000000e+00,   4.08000000e+00,\n",
       "         4.09000000e+00,   4.10000000e+00,   4.11000000e+00,\n",
       "         4.12000000e+00,   4.13000000e+00,   4.14000000e+00,\n",
       "         4.15000000e+00,   4.16000000e+00,   4.17000000e+00,\n",
       "         4.18000000e+00,   4.19000000e+00,   4.20000000e+00,\n",
       "         4.21000000e+00,   4.22000000e+00,   4.23000000e+00,\n",
       "         4.24000000e+00,   4.25000000e+00,   4.26000000e+00,\n",
       "         4.27000000e+00,   4.28000000e+00,   4.29000000e+00,\n",
       "         4.30000000e+00,   4.31000000e+00,   4.32000000e+00,\n",
       "         4.33000000e+00,   4.34000000e+00,   4.35000000e+00,\n",
       "         4.36000000e+00,   4.37000000e+00,   4.38000000e+00,\n",
       "         4.39000000e+00,   4.40000000e+00,   4.41000000e+00,\n",
       "         4.42000000e+00,   4.43000000e+00,   4.44000000e+00,\n",
       "         4.45000000e+00,   4.46000000e+00,   4.47000000e+00,\n",
       "         4.48000000e+00,   4.49000000e+00,   4.50000000e+00,\n",
       "         4.51000000e+00,   4.52000000e+00,   4.53000000e+00,\n",
       "         4.54000000e+00,   4.55000000e+00,   4.56000000e+00,\n",
       "         4.57000000e+00,   4.58000000e+00,   4.59000000e+00,\n",
       "         4.60000000e+00,   4.61000000e+00,   4.62000000e+00,\n",
       "         4.63000000e+00,   4.64000000e+00,   4.65000000e+00,\n",
       "         4.66000000e+00,   4.67000000e+00,   4.68000000e+00,\n",
       "         4.69000000e+00,   4.70000000e+00,   4.71000000e+00,\n",
       "         4.72000000e+00,   4.73000000e+00,   4.74000000e+00,\n",
       "         4.75000000e+00,   4.76000000e+00,   4.77000000e+00,\n",
       "         4.78000000e+00,   4.79000000e+00,   4.80000000e+00,\n",
       "         4.81000000e+00,   4.82000000e+00,   4.83000000e+00,\n",
       "         4.84000000e+00,   4.85000000e+00,   4.86000000e+00,\n",
       "         4.87000000e+00,   4.88000000e+00,   4.89000000e+00,\n",
       "         4.90000000e+00,   4.91000000e+00,   4.92000000e+00,\n",
       "         4.93000000e+00,   4.94000000e+00,   4.95000000e+00,\n",
       "         4.96000000e+00,   4.97000000e+00,   4.98000000e+00,\n",
       "         4.99000000e+00])"
      ]
     },
     "execution_count": 116,
     "metadata": {},
     "output_type": "execute_result"
    }
   ],
   "source": [
    "pts=np.arange(-5,5,0.01);pts"
   ]
  },
  {
   "cell_type": "code",
   "execution_count": null,
   "metadata": {},
   "outputs": [],
   "source": []
  },
  {
   "cell_type": "code",
   "execution_count": 117,
   "metadata": {},
   "outputs": [],
   "source": [
    "xs,ys=np.meshgrid(pts,pts)"
   ]
  },
  {
   "cell_type": "code",
   "execution_count": null,
   "metadata": {},
   "outputs": [],
   "source": []
  },
  {
   "cell_type": "code",
   "execution_count": 112,
   "metadata": {},
   "outputs": [
    {
     "data": {
      "text/plain": [
       "array([[-2, -1,  0,  1,  2],\n",
       "       [-2, -1,  0,  1,  2],\n",
       "       [-2, -1,  0,  1,  2],\n",
       "       [-2, -1,  0,  1,  2],\n",
       "       [-2, -1,  0,  1,  2]])"
      ]
     },
     "execution_count": 112,
     "metadata": {},
     "output_type": "execute_result"
    }
   ],
   "source": [
    "xs"
   ]
  },
  {
   "cell_type": "code",
   "execution_count": 113,
   "metadata": {},
   "outputs": [
    {
     "data": {
      "text/plain": [
       "array([[-2, -2, -2, -2, -2],\n",
       "       [-1, -1, -1, -1, -1],\n",
       "       [ 0,  0,  0,  0,  0],\n",
       "       [ 1,  1,  1,  1,  1],\n",
       "       [ 2,  2,  2,  2,  2]])"
      ]
     },
     "execution_count": 113,
     "metadata": {},
     "output_type": "execute_result"
    }
   ],
   "source": [
    "ys"
   ]
  },
  {
   "cell_type": "code",
   "execution_count": 118,
   "metadata": {},
   "outputs": [],
   "source": [
    "zs=np.sqrt(xs**2 + ys**2)"
   ]
  },
  {
   "cell_type": "code",
   "execution_count": null,
   "metadata": {},
   "outputs": [],
   "source": []
  },
  {
   "cell_type": "code",
   "execution_count": 121,
   "metadata": {},
   "outputs": [
    {
     "data": {
      "text/plain": [
       "2"
      ]
     },
     "execution_count": 121,
     "metadata": {},
     "output_type": "execute_result"
    }
   ],
   "source": [
    "zs.ndim"
   ]
  },
  {
   "cell_type": "code",
   "execution_count": 122,
   "metadata": {},
   "outputs": [
    {
     "data": {
      "text/plain": [
       "(1000, 1000)"
      ]
     },
     "execution_count": 122,
     "metadata": {},
     "output_type": "execute_result"
    }
   ],
   "source": [
    "zs.shape"
   ]
  },
  {
   "cell_type": "code",
   "execution_count": 123,
   "metadata": {},
   "outputs": [],
   "source": [
    "import matplotlib.pyplot as plt"
   ]
  },
  {
   "cell_type": "code",
   "execution_count": 124,
   "metadata": {},
   "outputs": [
    {
     "data": {
      "text/plain": [
       "<matplotlib.colorbar.Colorbar at 0x7fbda70bdc88>"
      ]
     },
     "execution_count": 124,
     "metadata": {},
     "output_type": "execute_result"
    },
    {
     "data": {
      "image/png": "[encoded data removed]",
      "text/plain": [
       "<matplotlib.figure.Figure at 0x7fbda719f400>"
      ]
     },
     "metadata": {},
     "output_type": "display_data"
    }
   ],
   "source": []
  },
  {
   "cell_type": "code",
   "execution_count": 126,
   "metadata": {},
   "outputs": [
    {
     "data": {
      "text/plain": [
       "Text(0.5,1,'Image Plot of $\\\\sqrt{x^2 + y^2}$ for a grid of values')"
      ]
     },
     "execution_count": 126,
     "metadata": {},
     "output_type": "execute_result"
    },
    {
     "data": {
      "image/png": "[encoded data removed]",
      "text/plain": [
       "<matplotlib.figure.Figure at 0x7fbda701dbe0>"
      ]
     },
     "metadata": {},
     "output_type": "display_data"
    }
   ],
   "source": [
    "plt.imshow(zs);plt.colorbar();plt.title('Image Plot of $\\sqrt{x^2 + y^2}$ for a grid of values')"
   ]
  },
  {
   "cell_type": "code",
   "execution_count": 128,
   "metadata": {},
   "outputs": [],
   "source": [
    "arr=np.random.randn(4,4)"
   ]
  },
  {
   "cell_type": "code",
   "execution_count": 129,
   "metadata": {},
   "outputs": [
    {
     "data": {
      "text/plain": [
       "array([[-2.00912641,  1.04920415,  1.72993323,  1.36546851],\n",
       "       [-0.50640618, -1.42944691, -1.38203177, -1.15954232],\n",
       "       [ 0.20335901, -1.43535871,  1.47644097, -1.94973756],\n",
       "       [-0.8157618 ,  0.5768845 , -0.72873938,  1.70398225]])"
      ]
     },
     "execution_count": 129,
     "metadata": {},
     "output_type": "execute_result"
    }
   ],
   "source": [
    "arr"
   ]
  },
  {
   "cell_type": "code",
   "execution_count": 130,
   "metadata": {},
   "outputs": [],
   "source": [
    "arr1=np.where(arr>0,2,-2)"
   ]
  },
  {
   "cell_type": "code",
   "execution_count": 131,
   "metadata": {},
   "outputs": [
    {
     "data": {
      "text/plain": [
       "array([[-2,  2,  2,  2],\n",
       "       [-2, -2, -2, -2],\n",
       "       [ 2, -2,  2, -2],\n",
       "       [-2,  2, -2,  2]])"
      ]
     },
     "execution_count": 131,
     "metadata": {},
     "output_type": "execute_result"
    }
   ],
   "source": [
    "arr1"
   ]
  },
  {
   "cell_type": "code",
   "execution_count": 136,
   "metadata": {},
   "outputs": [],
   "source": [
    "arr2=np.where(arr>1)"
   ]
  },
  {
   "cell_type": "code",
   "execution_count": 137,
   "metadata": {},
   "outputs": [
    {
     "data": {
      "text/plain": [
       "(array([0, 0, 0, 2, 3]), array([1, 2, 3, 2, 3]))"
      ]
     },
     "execution_count": 137,
     "metadata": {},
     "output_type": "execute_result"
    }
   ],
   "source": [
    "arr2"
   ]
  },
  {
   "cell_type": "code",
   "execution_count": 138,
   "metadata": {},
   "outputs": [],
   "source": [
    "arr3=np.where(arr>1,2,arr)"
   ]
  },
  {
   "cell_type": "code",
   "execution_count": 139,
   "metadata": {},
   "outputs": [
    {
     "data": {
      "text/plain": [
       "array([[-2.00912641,  2.        ,  2.        ,  2.        ],\n",
       "       [-0.50640618, -1.42944691, -1.38203177, -1.15954232],\n",
       "       [ 0.20335901, -1.43535871,  2.        , -1.94973756],\n",
       "       [-0.8157618 ,  0.5768845 , -0.72873938,  2.        ]])"
      ]
     },
     "execution_count": 139,
     "metadata": {},
     "output_type": "execute_result"
    }
   ],
   "source": [
    "arr3"
   ]
  },
  {
   "cell_type": "code",
   "execution_count": null,
   "metadata": {},
   "outputs": [],
   "source": []
  },
  {
   "cell_type": "code",
   "execution_count": 135,
   "metadata": {},
   "outputs": [
    {
     "data": {
      "text/plain": [
       "array([[-2.00912641,  1.04920415,  1.72993323,  1.36546851],\n",
       "       [-0.50640618, -1.42944691, -1.38203177, -1.15954232],\n",
       "       [ 0.20335901, -1.43535871,  1.47644097, -1.94973756],\n",
       "       [-0.8157618 ,  0.5768845 , -0.72873938,  1.70398225]])"
      ]
     },
     "execution_count": 135,
     "metadata": {},
     "output_type": "execute_result"
    }
   ],
   "source": [
    "arr"
   ]
  },
  {
   "cell_type": "code",
   "execution_count": 140,
   "metadata": {},
   "outputs": [],
   "source": [
    "arr=np.arange(16).reshape(4,4)"
   ]
  },
  {
   "cell_type": "code",
   "execution_count": 141,
   "metadata": {},
   "outputs": [
    {
     "data": {
      "text/plain": [
       "array([[ 0,  1,  2,  3],\n",
       "       [ 4,  5,  6,  7],\n",
       "       [ 8,  9, 10, 11],\n",
       "       [12, 13, 14, 15]])"
      ]
     },
     "execution_count": 141,
     "metadata": {},
     "output_type": "execute_result"
    }
   ],
   "source": [
    "arr"
   ]
  },
  {
   "cell_type": "code",
   "execution_count": 142,
   "metadata": {},
   "outputs": [
    {
     "data": {
      "text/plain": [
       "array([24, 28, 32, 36])"
      ]
     },
     "execution_count": 142,
     "metadata": {},
     "output_type": "execute_result"
    }
   ],
   "source": [
    "arr.sum(0)"
   ]
  },
  {
   "cell_type": "code",
   "execution_count": 143,
   "metadata": {},
   "outputs": [
    {
     "data": {
      "text/plain": [
       "array([ 6, 22, 38, 54])"
      ]
     },
     "execution_count": 143,
     "metadata": {},
     "output_type": "execute_result"
    }
   ],
   "source": [
    "arr.sum(1)"
   ]
  },
  {
   "cell_type": "code",
   "execution_count": 144,
   "metadata": {},
   "outputs": [
    {
     "data": {
      "text/plain": [
       "array([ 6.,  7.,  8.,  9.])"
      ]
     },
     "execution_count": 144,
     "metadata": {},
     "output_type": "execute_result"
    }
   ],
   "source": [
    "arr.mean(0)"
   ]
  },
  {
   "cell_type": "code",
   "execution_count": 145,
   "metadata": {},
   "outputs": [
    {
     "data": {
      "text/plain": [
       "array([  1.5,   5.5,   9.5,  13.5])"
      ]
     },
     "execution_count": 145,
     "metadata": {},
     "output_type": "execute_result"
    }
   ],
   "source": [
    "arr.mean(1)"
   ]
  },
  {
   "cell_type": "code",
   "execution_count": 147,
   "metadata": {},
   "outputs": [
    {
     "data": {
      "text/plain": [
       "array([  0,   1,   3,   6,  10,  15,  21,  28,  36,  45,  55,  66,  78,\n",
       "        91, 105, 120])"
      ]
     },
     "execution_count": 147,
     "metadata": {},
     "output_type": "execute_result"
    }
   ],
   "source": [
    "arr.reshape(1,16).cumsum()"
   ]
  },
  {
   "cell_type": "code",
   "execution_count": 149,
   "metadata": {},
   "outputs": [],
   "source": [
    "arr2=np.arange(17)"
   ]
  },
  {
   "cell_type": "code",
   "execution_count": 151,
   "metadata": {},
   "outputs": [],
   "source": [
    "arr3=arr2[1:].copy()"
   ]
  },
  {
   "cell_type": "code",
   "execution_count": 152,
   "metadata": {},
   "outputs": [
    {
     "data": {
      "text/plain": [
       "array([ 1,  2,  3,  4,  5,  6,  7,  8,  9, 10, 11, 12, 13, 14, 15, 16])"
      ]
     },
     "execution_count": 152,
     "metadata": {},
     "output_type": "execute_result"
    }
   ],
   "source": [
    "arr3"
   ]
  },
  {
   "cell_type": "code",
   "execution_count": 153,
   "metadata": {},
   "outputs": [
    {
     "data": {
      "text/plain": [
       "array([  1,   3,   6,  10,  15,  21,  28,  36,  45,  55,  66,  78,  91,\n",
       "       105, 120, 136])"
      ]
     },
     "execution_count": 153,
     "metadata": {},
     "output_type": "execute_result"
    }
   ],
   "source": [
    "arr3.cumsum()"
   ]
  },
  {
   "cell_type": "code",
   "execution_count": 154,
   "metadata": {},
   "outputs": [
    {
     "data": {
      "text/plain": [
       "array([             1,              2,              6,             24,\n",
       "                  120,            720,           5040,          40320,\n",
       "               362880,        3628800,       39916800,      479001600,\n",
       "           6227020800,    87178291200,  1307674368000, 20922789888000])"
      ]
     },
     "execution_count": 154,
     "metadata": {},
     "output_type": "execute_result"
    }
   ],
   "source": [
    "arr3.cumprod()"
   ]
  },
  {
   "cell_type": "code",
   "execution_count": 155,
   "metadata": {},
   "outputs": [
    {
     "data": {
      "text/plain": [
       "array([[ 0,  1,  2,  3],\n",
       "       [ 4,  5,  6,  7],\n",
       "       [ 8,  9, 10, 11],\n",
       "       [12, 13, 14, 15]])"
      ]
     },
     "execution_count": 155,
     "metadata": {},
     "output_type": "execute_result"
    }
   ],
   "source": [
    "arr"
   ]
  },
  {
   "cell_type": "code",
   "execution_count": 158,
   "metadata": {},
   "outputs": [
    {
     "data": {
      "text/plain": [
       "array([0, 0, 0, 0, 0, 0, 0, 0, 0, 0, 0, 0, 0, 0, 0, 0])"
      ]
     },
     "execution_count": 158,
     "metadata": {},
     "output_type": "execute_result"
    }
   ],
   "source": [
    "arr.reshape(16).cumprod()"
   ]
  },
  {
   "cell_type": "code",
   "execution_count": 164,
   "metadata": {},
   "outputs": [],
   "source": [
    "names=np.array(['Bob', 'Will','Will', 'Joe',  'Bob', 'Joe', 'Joe'])"
   ]
  },
  {
   "cell_type": "code",
   "execution_count": null,
   "metadata": {},
   "outputs": [],
   "source": []
  },
  {
   "cell_type": "code",
   "execution_count": 165,
   "metadata": {},
   "outputs": [
    {
     "data": {
      "text/plain": [
       "array(['Bob', 'Will', 'Will', 'Joe', 'Bob', 'Joe', 'Joe'],\n",
       "      dtype='<U4')"
      ]
     },
     "execution_count": 165,
     "metadata": {},
     "output_type": "execute_result"
    }
   ],
   "source": [
    "names"
   ]
  },
  {
   "cell_type": "code",
   "execution_count": 167,
   "metadata": {},
   "outputs": [
    {
     "name": "stdout",
     "output_type": "stream",
     "text": [
      "CPU times: user 22 µs, sys: 5 µs, total: 27 µs\n",
      "Wall time: 30.8 µs\n"
     ]
    },
    {
     "data": {
      "text/plain": [
       "{'Bob', 'Joe', 'Will'}"
      ]
     },
     "execution_count": 167,
     "metadata": {},
     "output_type": "execute_result"
    }
   ],
   "source": [
    "%time set(names)"
   ]
  },
  {
   "cell_type": "code",
   "execution_count": 169,
   "metadata": {},
   "outputs": [
    {
     "name": "stdout",
     "output_type": "stream",
     "text": [
      "CPU times: user 1.57 ms, sys: 347 µs, total: 1.91 ms\n",
      "Wall time: 71.3 ms\n"
     ]
    },
    {
     "data": {
      "text/plain": [
       "array(['Bob', 'Joe', 'Will'],\n",
       "      dtype='<U4')"
      ]
     },
     "execution_count": 169,
     "metadata": {},
     "output_type": "execute_result"
    }
   ],
   "source": [
    "%time np.unique(names)"
   ]
  },
  {
   "cell_type": "code",
   "execution_count": 170,
   "metadata": {},
   "outputs": [
    {
     "name": "stdout",
     "output_type": "stream",
     "text": [
      "CPU times: user 23 µs, sys: 6 µs, total: 29 µs\n",
      "Wall time: 32.4 µs\n"
     ]
    },
    {
     "data": {
      "text/plain": [
       "['Bob', 'Joe', 'Will']"
      ]
     },
     "execution_count": 170,
     "metadata": {},
     "output_type": "execute_result"
    }
   ],
   "source": [
    "%time sorted(set(names))"
   ]
  },
  {
   "cell_type": "code",
   "execution_count": 172,
   "metadata": {},
   "outputs": [
    {
     "data": {
      "text/plain": [
       "array([[ 0,  1,  2,  3],\n",
       "       [ 4,  5,  6,  7],\n",
       "       [ 8,  9, 10, 11],\n",
       "       [12, 13, 14, 15]])"
      ]
     },
     "execution_count": 172,
     "metadata": {},
     "output_type": "execute_result"
    }
   ],
   "source": [
    "arr"
   ]
  },
  {
   "cell_type": "code",
   "execution_count": 173,
   "metadata": {},
   "outputs": [],
   "source": [
    "arr_rand=np.random.rand(15)"
   ]
  },
  {
   "cell_type": "code",
   "execution_count": 174,
   "metadata": {},
   "outputs": [
    {
     "data": {
      "text/plain": [
       "array([ 0.22075833,  0.57785979,  0.33772699,  0.11985694,  0.5776804 ,\n",
       "        0.59998368,  0.53157296,  0.57976332,  0.80533583,  0.76415869,\n",
       "        0.21423537,  0.22360258,  0.62521627,  0.10834377,  0.8535531 ])"
      ]
     },
     "execution_count": 174,
     "metadata": {},
     "output_type": "execute_result"
    }
   ],
   "source": [
    "arr_rand"
   ]
  },
  {
   "cell_type": "code",
   "execution_count": 175,
   "metadata": {},
   "outputs": [
    {
     "name": "stdout",
     "output_type": "stream",
     "text": [
      "CPU times: user 30 µs, sys: 6 µs, total: 36 µs\n",
      "Wall time: 46.3 µs\n"
     ]
    },
    {
     "data": {
      "text/plain": [
       "{0.10834377127143491,\n",
       " 0.11985694107555467,\n",
       " 0.21423537404566573,\n",
       " 0.22075833304720305,\n",
       " 0.2236025831403764,\n",
       " 0.33772698508723153,\n",
       " 0.53157296102706453,\n",
       " 0.57768039665101767,\n",
       " 0.57785978919332803,\n",
       " 0.57976332044270018,\n",
       " 0.59998367670645525,\n",
       " 0.62521626929689289,\n",
       " 0.76415869451430318,\n",
       " 0.80533583178849188,\n",
       " 0.85355310474686452}"
      ]
     },
     "execution_count": 175,
     "metadata": {},
     "output_type": "execute_result"
    }
   ],
   "source": [
    "%time set(arr_rand)"
   ]
  },
  {
   "cell_type": "code",
   "execution_count": 176,
   "metadata": {},
   "outputs": [
    {
     "name": "stdout",
     "output_type": "stream",
     "text": [
      "CPU times: user 759 µs, sys: 0 ns, total: 759 µs\n",
      "Wall time: 523 µs\n"
     ]
    },
    {
     "data": {
      "text/plain": [
       "array([ 0.10834377,  0.11985694,  0.21423537,  0.22075833,  0.22360258,\n",
       "        0.33772699,  0.53157296,  0.5776804 ,  0.57785979,  0.57976332,\n",
       "        0.59998368,  0.62521627,  0.76415869,  0.80533583,  0.8535531 ])"
      ]
     },
     "execution_count": 176,
     "metadata": {},
     "output_type": "execute_result"
    }
   ],
   "source": [
    "%time np.unique(arr_rand)"
   ]
  },
  {
   "cell_type": "code",
   "execution_count": 177,
   "metadata": {},
   "outputs": [
    {
     "name": "stdout",
     "output_type": "stream",
     "text": [
      "CPU times: user 29 µs, sys: 0 ns, total: 29 µs\n",
      "Wall time: 32.9 µs\n"
     ]
    },
    {
     "data": {
      "text/plain": [
       "[0.10834377127143491,\n",
       " 0.11985694107555467,\n",
       " 0.21423537404566573,\n",
       " 0.22075833304720305,\n",
       " 0.2236025831403764,\n",
       " 0.33772698508723153,\n",
       " 0.53157296102706453,\n",
       " 0.57768039665101767,\n",
       " 0.57785978919332803,\n",
       " 0.57976332044270018,\n",
       " 0.59998367670645525,\n",
       " 0.62521626929689289,\n",
       " 0.76415869451430318,\n",
       " 0.80533583178849188,\n",
       " 0.85355310474686452]"
      ]
     },
     "execution_count": 177,
     "metadata": {},
     "output_type": "execute_result"
    }
   ],
   "source": [
    "%time sorted(set(arr_rand))"
   ]
  },
  {
   "cell_type": "code",
   "execution_count": 186,
   "metadata": {},
   "outputs": [],
   "source": [
    "arra=np.random.randint(100,size=10)"
   ]
  },
  {
   "cell_type": "code",
   "execution_count": 187,
   "metadata": {},
   "outputs": [
    {
     "data": {
      "text/plain": [
       "array([12, 63, 43, 22, 51, 87, 74, 26, 56, 24])"
      ]
     },
     "execution_count": 187,
     "metadata": {},
     "output_type": "execute_result"
    }
   ],
   "source": [
    "arra"
   ]
  },
  {
   "cell_type": "code",
   "execution_count": 188,
   "metadata": {},
   "outputs": [],
   "source": [
    "arrb=np.arange(50)"
   ]
  },
  {
   "cell_type": "code",
   "execution_count": 189,
   "metadata": {},
   "outputs": [
    {
     "data": {
      "text/plain": [
       "array([ 0,  1,  2,  3,  4,  5,  6,  7,  8,  9, 10, 11, 12, 13, 14, 15, 16,\n",
       "       17, 18, 19, 20, 21, 22, 23, 24, 25, 26, 27, 28, 29, 30, 31, 32, 33,\n",
       "       34, 35, 36, 37, 38, 39, 40, 41, 42, 43, 44, 45, 46, 47, 48, 49])"
      ]
     },
     "execution_count": 189,
     "metadata": {},
     "output_type": "execute_result"
    }
   ],
   "source": [
    "arrb"
   ]
  },
  {
   "cell_type": "code",
   "execution_count": 190,
   "metadata": {},
   "outputs": [
    {
     "data": {
      "text/plain": [
       "array([ True, False,  True,  True, False, False, False,  True, False,  True], dtype=bool)"
      ]
     },
     "execution_count": 190,
     "metadata": {},
     "output_type": "execute_result"
    }
   ],
   "source": [
    "np.in1d(arra,arrb)"
   ]
  },
  {
   "cell_type": "code",
   "execution_count": 195,
   "metadata": {},
   "outputs": [],
   "source": [
    "arra2=np.random.randint(30,size=(2,5))"
   ]
  },
  {
   "cell_type": "code",
   "execution_count": null,
   "metadata": {},
   "outputs": [],
   "source": []
  },
  {
   "cell_type": "code",
   "execution_count": 196,
   "metadata": {},
   "outputs": [
    {
     "data": {
      "text/plain": [
       "array([[16, 16, 13, 24,  0],\n",
       "       [10, 26, 20,  4, 10]])"
      ]
     },
     "execution_count": 196,
     "metadata": {},
     "output_type": "execute_result"
    }
   ],
   "source": [
    "arra2"
   ]
  },
  {
   "cell_type": "code",
   "execution_count": null,
   "metadata": {},
   "outputs": [],
   "source": []
  },
  {
   "cell_type": "code",
   "execution_count": 193,
   "metadata": {},
   "outputs": [],
   "source": [
    "arrb2=np.arange(16).reshape(4,4)"
   ]
  },
  {
   "cell_type": "code",
   "execution_count": 194,
   "metadata": {},
   "outputs": [
    {
     "data": {
      "text/plain": [
       "array([[ 0,  1,  2,  3],\n",
       "       [ 4,  5,  6,  7],\n",
       "       [ 8,  9, 10, 11],\n",
       "       [12, 13, 14, 15]])"
      ]
     },
     "execution_count": 194,
     "metadata": {},
     "output_type": "execute_result"
    }
   ],
   "source": [
    "arrb2"
   ]
  },
  {
   "cell_type": "code",
   "execution_count": null,
   "metadata": {},
   "outputs": [],
   "source": []
  },
  {
   "cell_type": "code",
   "execution_count": 197,
   "metadata": {},
   "outputs": [],
   "source": [
    "mask=np.in1d(arra2,arrb2)"
   ]
  },
  {
   "cell_type": "code",
   "execution_count": 200,
   "metadata": {},
   "outputs": [
    {
     "data": {
      "text/plain": [
       "array([[False, False,  True, False,  True],\n",
       "       [ True, False, False,  True,  True]], dtype=bool)"
      ]
     },
     "execution_count": 200,
     "metadata": {},
     "output_type": "execute_result"
    }
   ],
   "source": [
    "mask.reshape(2,5)"
   ]
  },
  {
   "cell_type": "code",
   "execution_count": 202,
   "metadata": {},
   "outputs": [],
   "source": [
    "result=np.where(mask.reshape(2,5),arra2,-1)"
   ]
  },
  {
   "cell_type": "code",
   "execution_count": 203,
   "metadata": {},
   "outputs": [
    {
     "data": {
      "text/plain": [
       "array([[-1, -1, 13, -1,  0],\n",
       "       [10, -1, -1,  4, 10]])"
      ]
     },
     "execution_count": 203,
     "metadata": {},
     "output_type": "execute_result"
    }
   ],
   "source": [
    "result"
   ]
  },
  {
   "cell_type": "code",
   "execution_count": 210,
   "metadata": {},
   "outputs": [],
   "source": [
    "names={'Zoey','Bob','Anna','Harry','Zoey','Harry','Zoey'}"
   ]
  },
  {
   "cell_type": "code",
   "execution_count": 213,
   "metadata": {},
   "outputs": [
    {
     "data": {
      "text/plain": [
       "{'Anna', 'Bob', 'Harry', 'Zoey'}"
      ]
     },
     "execution_count": 213,
     "metadata": {},
     "output_type": "execute_result"
    }
   ],
   "source": [
    "names"
   ]
  },
  {
   "cell_type": "code",
   "execution_count": 214,
   "metadata": {},
   "outputs": [],
   "source": [
    "names=('Zoey','Bob','Anna','Harry','Zoey','Harry','Zoey')"
   ]
  },
  {
   "cell_type": "code",
   "execution_count": 217,
   "metadata": {},
   "outputs": [
    {
     "data": {
      "text/plain": [
       "('Zoey', 'Bob', 'Anna', 'Harry', 'Zoey', 'Harry', 'Zoey')"
      ]
     },
     "execution_count": 217,
     "metadata": {},
     "output_type": "execute_result"
    }
   ],
   "source": [
    "names"
   ]
  },
  {
   "cell_type": "code",
   "execution_count": 218,
   "metadata": {},
   "outputs": [
    {
     "name": "stdout",
     "output_type": "stream",
     "text": [
      "CPU times: user 0 ns, sys: 573 µs, total: 573 µs\n",
      "Wall time: 478 µs\n"
     ]
    },
    {
     "data": {
      "text/plain": [
       "array(['Anna', 'Bob', 'Harry', 'Zoey'],\n",
       "      dtype='<U5')"
      ]
     },
     "execution_count": 218,
     "metadata": {},
     "output_type": "execute_result"
    }
   ],
   "source": [
    "%time np.unique(np.asarray(names))"
   ]
  },
  {
   "cell_type": "code",
   "execution_count": 219,
   "metadata": {},
   "outputs": [
    {
     "name": "stdout",
     "output_type": "stream",
     "text": [
      "CPU times: user 7 µs, sys: 2 µs, total: 9 µs\n",
      "Wall time: 13.1 µs\n"
     ]
    },
    {
     "data": {
      "text/plain": [
       "{'Anna', 'Bob', 'Harry', 'Zoey'}"
      ]
     },
     "execution_count": 219,
     "metadata": {},
     "output_type": "execute_result"
    }
   ],
   "source": [
    "%time set(names)"
   ]
  },
  {
   "cell_type": "code",
   "execution_count": null,
   "metadata": {},
   "outputs": [],
   "source": []
  },
  {
   "cell_type": "code",
   "execution_count": 223,
   "metadata": {},
   "outputs": [
    {
     "name": "stdout",
     "output_type": "stream",
     "text": [
      "CPU times: user 3 µs, sys: 1e+03 ns, total: 4 µs\n",
      "Wall time: 6.91 µs\n"
     ]
    },
    {
     "data": {
      "text/plain": [
       "[<matplotlib.lines.Line2D at 0x7fbda6e1a7f0>]"
      ]
     },
     "execution_count": 223,
     "metadata": {},
     "output_type": "execute_result"
    },
    {
     "data": {
      "image/png": "[encoded data removed]",
      "text/plain": [
       "<matplotlib.figure.Figure at 0x7fbda6e48da0>"
      ]
     },
     "metadata": {},
     "output_type": "display_data"
    }
   ],
   "source": [
    "%time\n",
    "import random\n",
    "pos=0\n",
    "walk=[pos]\n",
    "steps=1000\n",
    "for i in range(steps):\n",
    "    step=1 if random.randint(0,1) else -1\n",
    "    pos += step\n",
    "    walk.append(pos)\n",
    "\n",
    "plt.plot(walk[:200])"
   ]
  },
  {
   "cell_type": "code",
   "execution_count": 225,
   "metadata": {},
   "outputs": [
    {
     "name": "stdout",
     "output_type": "stream",
     "text": [
      "CPU times: user 3 µs, sys: 1 µs, total: 4 µs\n",
      "Wall time: 7.15 µs\n"
     ]
    },
    {
     "data": {
      "text/plain": [
       "[<matplotlib.lines.Line2D at 0x7fbda6d7f160>]"
      ]
     },
     "execution_count": 225,
     "metadata": {},
     "output_type": "execute_result"
    },
    {
     "data": {
      "image/png": "[encoded data removed]",
      "text/plain": [
       "<matplotlib.figure.Figure at 0x7fbda6e48748>"
      ]
     },
     "metadata": {},
     "output_type": "display_data"
    }
   ],
   "source": [
    "%time\n",
    "nsteps=1000\n",
    "steps=(np.random.randint(0,2,size=nsteps)-0.5)*2\n",
    "walk=steps.cumsum()\n",
    "plt.plot(walk[:200])"
   ]
  },
  {
   "cell_type": "code",
   "execution_count": 226,
   "metadata": {},
   "outputs": [
    {
     "data": {
      "text/plain": [
       "array([-1.,  1.,  1.,  1., -1., -1.,  1.,  1.,  1., -1., -1., -1., -1.,\n",
       "        1.,  1., -1.,  1.,  1.,  1., -1., -1.,  1., -1.,  1., -1.,  1.,\n",
       "        1., -1.,  1., -1.,  1.,  1.,  1.,  1.,  1., -1., -1.,  1., -1.,\n",
       "        1.,  1.,  1., -1., -1., -1.,  1., -1.,  1.,  1., -1.,  1.,  1.,\n",
       "       -1., -1.,  1., -1.,  1., -1.,  1.,  1.,  1., -1., -1.,  1., -1.,\n",
       "        1.,  1., -1.,  1., -1.,  1., -1.,  1.,  1., -1., -1.,  1., -1.,\n",
       "       -1.,  1., -1., -1., -1., -1.,  1., -1.,  1.,  1.,  1.,  1., -1.,\n",
       "       -1., -1.,  1.,  1., -1.,  1., -1., -1.,  1.,  1., -1.,  1.,  1.,\n",
       "        1., -1., -1.,  1.,  1.,  1.,  1.,  1.,  1.,  1., -1., -1., -1.,\n",
       "       -1., -1.,  1.,  1.,  1., -1.,  1., -1.,  1.,  1.,  1.,  1., -1.,\n",
       "       -1., -1.,  1., -1., -1., -1.,  1., -1.,  1., -1., -1., -1.,  1.,\n",
       "        1., -1.,  1.,  1., -1.,  1.,  1.,  1., -1.,  1.,  1., -1.,  1.,\n",
       "       -1., -1.,  1.,  1., -1.,  1., -1.,  1., -1.,  1., -1.,  1.,  1.,\n",
       "       -1., -1.,  1.,  1., -1., -1.,  1.,  1., -1.,  1.,  1., -1.,  1.,\n",
       "       -1., -1.,  1.,  1., -1., -1.,  1., -1.,  1., -1.,  1.,  1.,  1.,\n",
       "        1., -1., -1., -1., -1.])"
      ]
     },
     "execution_count": 226,
     "metadata": {},
     "output_type": "execute_result"
    }
   ],
   "source": [
    "steps[:200]"
   ]
  },
  {
   "cell_type": "code",
   "execution_count": null,
   "metadata": {},
   "outputs": [],
   "source": []
  },
  {
   "cell_type": "code",
   "execution_count": 224,
   "metadata": {},
   "outputs": [],
   "source": [
    "np.random.randint?"
   ]
  },
  {
   "cell_type": "code",
   "execution_count": null,
   "metadata": {},
   "outputs": [],
   "source": []
  },
  {
   "cell_type": "code",
   "execution_count": null,
   "metadata": {},
   "outputs": [],
   "source": []
  },
  {
   "cell_type": "code",
   "execution_count": null,
   "metadata": {},
   "outputs": [],
   "source": []
  },
  {
   "cell_type": "markdown",
   "metadata": {},
   "source": []
  },
  {
   "cell_type": "code",
   "execution_count": null,
   "metadata": {},
   "outputs": [],
   "source": []
  },
  {
   "cell_type": "code",
   "execution_count": null,
   "metadata": {},
   "outputs": [],
   "source": []
  },
  {
   "cell_type": "code",
   "execution_count": null,
   "metadata": {},
   "outputs": [],
   "source": []
  },
  {
   "cell_type": "code",
   "execution_count": null,
   "metadata": {},
   "outputs": [],
   "source": []
  },
  {
   "cell_type": "code",
   "execution_count": 207,
   "metadata": {},
   "outputs": [
    {
     "data": {
      "text/plain": [
       "{'Anna', 'Bob', 'Harry', 'Zoey'}"
      ]
     },
     "execution_count": 207,
     "metadata": {},
     "output_type": "execute_result"
    }
   ],
   "source": [
    "set(names)"
   ]
  },
  {
   "cell_type": "code",
   "execution_count": 208,
   "metadata": {},
   "outputs": [],
   "source": [
    "set?"
   ]
  },
  {
   "cell_type": "code",
   "execution_count": 209,
   "metadata": {},
   "outputs": [
    {
     "data": {
      "text/plain": [
       "{'Anna', 'Bob', 'Harry', 'Zoey'}"
      ]
     },
     "execution_count": 209,
     "metadata": {},
     "output_type": "execute_result"
    }
   ],
   "source": [
    "names"
   ]
  },
  {
   "cell_type": "code",
   "execution_count": null,
   "metadata": {},
   "outputs": [],
   "source": []
  },
  {
   "cell_type": "code",
   "execution_count": null,
   "metadata": {},
   "outputs": [],
   "source": []
  },
  {
   "cell_type": "code",
   "execution_count": null,
   "metadata": {},
   "outputs": [],
   "source": []
  },
  {
   "cell_type": "code",
   "execution_count": null,
   "metadata": {},
   "outputs": [],
   "source": []
  },
  {
   "cell_type": "code",
   "execution_count": null,
   "metadata": {},
   "outputs": [],
   "source": []
  },
  {
   "cell_type": "code",
   "execution_count": 185,
   "metadata": {},
   "outputs": [
    {
     "data": {
      "text/plain": [
       "6"
      ]
     },
     "execution_count": 185,
     "metadata": {},
     "output_type": "execute_result"
    }
   ],
   "source": [
    "arra"
   ]
  },
  {
   "cell_type": "code",
   "execution_count": null,
   "metadata": {},
   "outputs": [],
   "source": []
  },
  {
   "cell_type": "code",
   "execution_count": null,
   "metadata": {},
   "outputs": [],
   "source": []
  },
  {
   "cell_type": "code",
   "execution_count": 181,
   "metadata": {},
   "outputs": [
    {
     "data": {
      "text/plain": [
       "<function RandomState.random_integers>"
      ]
     },
     "execution_count": 181,
     "metadata": {},
     "output_type": "execute_result"
    }
   ],
   "source": [
    "arra"
   ]
  },
  {
   "cell_type": "code",
   "execution_count": null,
   "metadata": {},
   "outputs": [],
   "source": []
  },
  {
   "cell_type": "code",
   "execution_count": 179,
   "metadata": {},
   "outputs": [
    {
     "data": {
      "text/plain": [
       "0"
      ]
     },
     "execution_count": 179,
     "metadata": {},
     "output_type": "execute_result"
    }
   ],
   "source": [
    "arra"
   ]
  },
  {
   "cell_type": "code",
   "execution_count": null,
   "metadata": {},
   "outputs": [],
   "source": []
  },
  {
   "cell_type": "code",
   "execution_count": null,
   "metadata": {},
   "outputs": [],
   "source": []
  },
  {
   "cell_type": "code",
   "execution_count": null,
   "metadata": {},
   "outputs": [],
   "source": []
  },
  {
   "cell_type": "code",
   "execution_count": null,
   "metadata": {},
   "outputs": [],
   "source": []
  },
  {
   "cell_type": "code",
   "execution_count": null,
   "metadata": {},
   "outputs": [],
   "source": []
  },
  {
   "cell_type": "code",
   "execution_count": 162,
   "metadata": {},
   "outputs": [
    {
     "data": {
      "text/plain": [
       "{'Bob', 'Joe', 'Will'}"
      ]
     },
     "execution_count": 162,
     "metadata": {},
     "output_type": "execute_result"
    }
   ],
   "source": [
    "set(names)"
   ]
  },
  {
   "cell_type": "code",
   "execution_count": null,
   "metadata": {},
   "outputs": [],
   "source": []
  },
  {
   "cell_type": "code",
   "execution_count": null,
   "metadata": {},
   "outputs": [],
   "source": []
  },
  {
   "cell_type": "code",
   "execution_count": null,
   "metadata": {},
   "outputs": [],
   "source": []
  },
  {
   "cell_type": "code",
   "execution_count": null,
   "metadata": {},
   "outputs": [],
   "source": []
  },
  {
   "cell_type": "code",
   "execution_count": null,
   "metadata": {},
   "outputs": [],
   "source": []
  },
  {
   "cell_type": "code",
   "execution_count": null,
   "metadata": {},
   "outputs": [],
   "source": []
  },
  {
   "cell_type": "code",
   "execution_count": null,
   "metadata": {},
   "outputs": [],
   "source": []
  },
  {
   "cell_type": "code",
   "execution_count": null,
   "metadata": {},
   "outputs": [],
   "source": []
  },
  {
   "cell_type": "code",
   "execution_count": null,
   "metadata": {},
   "outputs": [],
   "source": []
  },
  {
   "cell_type": "code",
   "execution_count": null,
   "metadata": {},
   "outputs": [],
   "source": []
  },
  {
   "cell_type": "code",
   "execution_count": null,
   "metadata": {},
   "outputs": [],
   "source": []
  },
  {
   "cell_type": "code",
   "execution_count": null,
   "metadata": {},
   "outputs": [],
   "source": []
  },
  {
   "cell_type": "code",
   "execution_count": null,
   "metadata": {},
   "outputs": [],
   "source": []
  },
  {
   "cell_type": "code",
   "execution_count": null,
   "metadata": {},
   "outputs": [],
   "source": []
  },
  {
   "cell_type": "code",
   "execution_count": 109,
   "metadata": {},
   "outputs": [
    {
     "data": {
      "text/plain": [
       "array([-2, -1,  0,  1])"
      ]
     },
     "execution_count": 109,
     "metadata": {},
     "output_type": "execute_result"
    }
   ],
   "source": []
  },
  {
   "cell_type": "code",
   "execution_count": null,
   "metadata": {},
   "outputs": [],
   "source": []
  },
  {
   "cell_type": "code",
   "execution_count": null,
   "metadata": {},
   "outputs": [],
   "source": []
  },
  {
   "cell_type": "code",
   "execution_count": null,
   "metadata": {},
   "outputs": [],
   "source": []
  },
  {
   "cell_type": "code",
   "execution_count": null,
   "metadata": {},
   "outputs": [],
   "source": []
  },
  {
   "cell_type": "code",
   "execution_count": null,
   "metadata": {},
   "outputs": [],
   "source": []
  },
  {
   "cell_type": "code",
   "execution_count": null,
   "metadata": {},
   "outputs": [],
   "source": []
  },
  {
   "cell_type": "code",
   "execution_count": null,
   "metadata": {},
   "outputs": [],
   "source": []
  },
  {
   "cell_type": "code",
   "execution_count": null,
   "metadata": {},
   "outputs": [],
   "source": []
  },
  {
   "cell_type": "code",
   "execution_count": null,
   "metadata": {},
   "outputs": [],
   "source": []
  },
  {
   "cell_type": "code",
   "execution_count": 43,
   "metadata": {},
   "outputs": [
    {
     "data": {
      "text/plain": [
       "[22, 33]"
      ]
     },
     "execution_count": 43,
     "metadata": {},
     "output_type": "execute_result"
    }
   ],
   "source": []
  },
  {
   "cell_type": "code",
   "execution_count": 44,
   "metadata": {},
   "outputs": [
    {
     "data": {
      "text/plain": [
       "array([ 0,  1,  2,  3,  4, 64, 64, 64,  8,  9, 10, 11, 12, 13, 14])"
      ]
     },
     "execution_count": 44,
     "metadata": {},
     "output_type": "execute_result"
    }
   ],
   "source": []
  },
  {
   "cell_type": "code",
   "execution_count": null,
   "metadata": {},
   "outputs": [],
   "source": []
  },
  {
   "cell_type": "code",
   "execution_count": null,
   "metadata": {},
   "outputs": [],
   "source": []
  },
  {
   "cell_type": "code",
   "execution_count": null,
   "metadata": {},
   "outputs": [],
   "source": []
  },
  {
   "cell_type": "code",
   "execution_count": null,
   "metadata": {},
   "outputs": [],
   "source": []
  },
  {
   "cell_type": "code",
   "execution_count": null,
   "metadata": {},
   "outputs": [],
   "source": []
  },
  {
   "cell_type": "code",
   "execution_count": null,
   "metadata": {},
   "outputs": [],
   "source": []
  },
  {
   "cell_type": "code",
   "execution_count": null,
   "metadata": {},
   "outputs": [],
   "source": []
  }
 ],
 "metadata": {
  "kernelspec": {
   "display_name": "Python 3",
   "language": "python",
   "name": "python3"
  },
  "language_info": {
   "codemirror_mode": {
    "name": "ipython",
    "version": 3
   },
   "file_extension": ".py",
   "mimetype": "text/x-python",
   "name": "python",
   "nbconvert_exporter": "python",
   "pygments_lexer": "ipython3",
   "version": "3.6.5"
  }
 },
 "nbformat": 4,
 "nbformat_minor": 2
}
